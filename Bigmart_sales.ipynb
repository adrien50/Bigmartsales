{
  "nbformat": 4,
  "nbformat_minor": 0,
  "metadata": {
    "kernelspec": {
      "display_name": "Python 3",
      "language": "python",
      "name": "python3"
    },
    "language_info": {
      "codemirror_mode": {
        "name": "ipython",
        "version": 3
      },
      "file_extension": ".py",
      "mimetype": "text/x-python",
      "name": "python",
      "nbconvert_exporter": "python",
      "pygments_lexer": "ipython3",
      "version": "3.7.3"
    },
    "colab": {
      "name": "Bigmart_sales.ipynb",
      "provenance": [],
      "toc_visible": true
    }
  },
  "cells": [
    {
      "cell_type": "code",
      "metadata": {
        "id": "2VMg95bUDOJn",
        "colab_type": "code",
        "colab": {}
      },
      "source": [
        "#Importing Necessary Libraries\n",
        "#Matplot and seaborn for making graphs\n",
        "%matplotlib notebook\n",
        "from sklearn.linear_model import Ridge\n",
        "from sklearn.model_selection import KFold, cross_val_score\n",
        "import featuretools as ft\n",
        "import numpy as np\n",
        "import pandas as pd\n",
        "from sklearn.model_selection import train_test_split\n",
        "from sklearn.preprocessing import LabelEncoder\n",
        "from scipy import stats\n",
        "from scipy.stats import mode\n",
        "import matplotlib.pyplot as plt\n",
        "from sklearn.model_selection import GridSearchCV\n",
        "from sklearn.model_selection import RandomizedSearchCV\n",
        "import seaborn as sns\n",
        "%matplotlib inline\n",
        "import warnings\n",
        "warnings.filterwarnings('ignore')"
      ],
      "execution_count": null,
      "outputs": []
    },
    {
      "cell_type": "code",
      "metadata": {
        "id": "bJX9jAs55zGZ",
        "colab_type": "code",
        "colab": {}
      },
      "source": [
        ""
      ],
      "execution_count": null,
      "outputs": []
    },
    {
      "cell_type": "code",
      "metadata": {
        "id": "AprXKgS45zDD",
        "colab_type": "code",
        "colab": {}
      },
      "source": [
        ""
      ],
      "execution_count": null,
      "outputs": []
    },
    {
      "cell_type": "code",
      "metadata": {
        "id": "5QjOPQhIDOJ8",
        "colab_type": "code",
        "colab": {
          "base_uri": "https://localhost:8080/",
          "height": 34
        },
        "outputId": "e704af8a-cc0d-4c61-d94c-79c6028f624c"
      },
      "source": [
        " #Imorting the datasets\n",
        "train =pd.read_csv(\"train_kOBLwZA.csv\")\n",
        "test=pd.read_csv(\"test_t02dQwI.csv\")\n",
        "\n",
        "print(train.shape,test.shape)"
      ],
      "execution_count": 146,
      "outputs": [
        {
          "output_type": "stream",
          "text": [
            "(8523, 12) (5681, 11)\n"
          ],
          "name": "stdout"
        }
      ]
    },
    {
      "cell_type": "code",
      "metadata": {
        "id": "OsOjc40JAALx",
        "colab_type": "code",
        "colab": {}
      },
      "source": [
        ""
      ],
      "execution_count": null,
      "outputs": []
    },
    {
      "cell_type": "markdown",
      "metadata": {
        "id": "7xjb4Vk84rXv",
        "colab_type": "text"
      },
      "source": [
        ""
      ]
    },
    {
      "cell_type": "markdown",
      "metadata": {
        "id": "4eUqVaI94rSZ",
        "colab_type": "text"
      },
      "source": [
        ""
      ]
    },
    {
      "cell_type": "code",
      "metadata": {
        "id": "V7cvoGd6Dq-9",
        "colab_type": "code",
        "colab": {
          "base_uri": "https://localhost:8080/",
          "height": 309
        },
        "outputId": "fd39d1cc-dd7a-4e7e-acb0-0020652df70e"
      },
      "source": [
        "train.head()"
      ],
      "execution_count": null,
      "outputs": [
        {
          "output_type": "execute_result",
          "data": {
            "text/html": [
              "<div>\n",
              "<style scoped>\n",
              "    .dataframe tbody tr th:only-of-type {\n",
              "        vertical-align: middle;\n",
              "    }\n",
              "\n",
              "    .dataframe tbody tr th {\n",
              "        vertical-align: top;\n",
              "    }\n",
              "\n",
              "    .dataframe thead th {\n",
              "        text-align: right;\n",
              "    }\n",
              "</style>\n",
              "<table border=\"1\" class=\"dataframe\">\n",
              "  <thead>\n",
              "    <tr style=\"text-align: right;\">\n",
              "      <th></th>\n",
              "      <th>Item_Identifier</th>\n",
              "      <th>Item_Weight</th>\n",
              "      <th>Item_Fat_Content</th>\n",
              "      <th>Item_Visibility</th>\n",
              "      <th>Item_Type</th>\n",
              "      <th>Item_MRP</th>\n",
              "      <th>Outlet_Identifier</th>\n",
              "      <th>Outlet_Establishment_Year</th>\n",
              "      <th>Outlet_Size</th>\n",
              "      <th>Outlet_Location_Type</th>\n",
              "      <th>Outlet_Type</th>\n",
              "      <th>Item_Outlet_Sales</th>\n",
              "    </tr>\n",
              "  </thead>\n",
              "  <tbody>\n",
              "    <tr>\n",
              "      <th>0</th>\n",
              "      <td>FDA15</td>\n",
              "      <td>9.30</td>\n",
              "      <td>Low Fat</td>\n",
              "      <td>0.016047</td>\n",
              "      <td>Dairy</td>\n",
              "      <td>249.8092</td>\n",
              "      <td>OUT049</td>\n",
              "      <td>1999</td>\n",
              "      <td>Medium</td>\n",
              "      <td>Tier 1</td>\n",
              "      <td>Supermarket Type1</td>\n",
              "      <td>3735.1380</td>\n",
              "    </tr>\n",
              "    <tr>\n",
              "      <th>1</th>\n",
              "      <td>DRC01</td>\n",
              "      <td>5.92</td>\n",
              "      <td>Regular</td>\n",
              "      <td>0.019278</td>\n",
              "      <td>Soft Drinks</td>\n",
              "      <td>48.2692</td>\n",
              "      <td>OUT018</td>\n",
              "      <td>2009</td>\n",
              "      <td>Medium</td>\n",
              "      <td>Tier 3</td>\n",
              "      <td>Supermarket Type2</td>\n",
              "      <td>443.4228</td>\n",
              "    </tr>\n",
              "    <tr>\n",
              "      <th>2</th>\n",
              "      <td>FDN15</td>\n",
              "      <td>17.50</td>\n",
              "      <td>Low Fat</td>\n",
              "      <td>0.016760</td>\n",
              "      <td>Meat</td>\n",
              "      <td>141.6180</td>\n",
              "      <td>OUT049</td>\n",
              "      <td>1999</td>\n",
              "      <td>Medium</td>\n",
              "      <td>Tier 1</td>\n",
              "      <td>Supermarket Type1</td>\n",
              "      <td>2097.2700</td>\n",
              "    </tr>\n",
              "    <tr>\n",
              "      <th>3</th>\n",
              "      <td>FDX07</td>\n",
              "      <td>19.20</td>\n",
              "      <td>Regular</td>\n",
              "      <td>0.000000</td>\n",
              "      <td>Fruits and Vegetables</td>\n",
              "      <td>182.0950</td>\n",
              "      <td>OUT010</td>\n",
              "      <td>1998</td>\n",
              "      <td>NaN</td>\n",
              "      <td>Tier 3</td>\n",
              "      <td>Grocery Store</td>\n",
              "      <td>732.3800</td>\n",
              "    </tr>\n",
              "    <tr>\n",
              "      <th>4</th>\n",
              "      <td>NCD19</td>\n",
              "      <td>8.93</td>\n",
              "      <td>Low Fat</td>\n",
              "      <td>0.000000</td>\n",
              "      <td>Household</td>\n",
              "      <td>53.8614</td>\n",
              "      <td>OUT013</td>\n",
              "      <td>1987</td>\n",
              "      <td>High</td>\n",
              "      <td>Tier 3</td>\n",
              "      <td>Supermarket Type1</td>\n",
              "      <td>994.7052</td>\n",
              "    </tr>\n",
              "  </tbody>\n",
              "</table>\n",
              "</div>"
            ],
            "text/plain": [
              "  Item_Identifier  Item_Weight  ...        Outlet_Type  Item_Outlet_Sales\n",
              "0           FDA15         9.30  ...  Supermarket Type1          3735.1380\n",
              "1           DRC01         5.92  ...  Supermarket Type2           443.4228\n",
              "2           FDN15        17.50  ...  Supermarket Type1          2097.2700\n",
              "3           FDX07        19.20  ...      Grocery Store           732.3800\n",
              "4           NCD19         8.93  ...  Supermarket Type1           994.7052\n",
              "\n",
              "[5 rows x 12 columns]"
            ]
          },
          "metadata": {
            "tags": []
          },
          "execution_count": 91
        }
      ]
    },
    {
      "cell_type": "code",
      "metadata": {
        "id": "tE1sWemvEA_1",
        "colab_type": "code",
        "colab": {
          "base_uri": "https://localhost:8080/",
          "height": 309
        },
        "outputId": "d6ed7de6-4806-426c-fed7-5b975d5b1ad5"
      },
      "source": [
        "test.head()"
      ],
      "execution_count": null,
      "outputs": [
        {
          "output_type": "execute_result",
          "data": {
            "text/html": [
              "<div>\n",
              "<style scoped>\n",
              "    .dataframe tbody tr th:only-of-type {\n",
              "        vertical-align: middle;\n",
              "    }\n",
              "\n",
              "    .dataframe tbody tr th {\n",
              "        vertical-align: top;\n",
              "    }\n",
              "\n",
              "    .dataframe thead th {\n",
              "        text-align: right;\n",
              "    }\n",
              "</style>\n",
              "<table border=\"1\" class=\"dataframe\">\n",
              "  <thead>\n",
              "    <tr style=\"text-align: right;\">\n",
              "      <th></th>\n",
              "      <th>Item_Identifier</th>\n",
              "      <th>Item_Weight</th>\n",
              "      <th>Item_Fat_Content</th>\n",
              "      <th>Item_Visibility</th>\n",
              "      <th>Item_Type</th>\n",
              "      <th>Item_MRP</th>\n",
              "      <th>Outlet_Identifier</th>\n",
              "      <th>Outlet_Establishment_Year</th>\n",
              "      <th>Outlet_Size</th>\n",
              "      <th>Outlet_Location_Type</th>\n",
              "      <th>Outlet_Type</th>\n",
              "    </tr>\n",
              "  </thead>\n",
              "  <tbody>\n",
              "    <tr>\n",
              "      <th>0</th>\n",
              "      <td>FDW58</td>\n",
              "      <td>20.750</td>\n",
              "      <td>Low Fat</td>\n",
              "      <td>0.007565</td>\n",
              "      <td>Snack Foods</td>\n",
              "      <td>107.8622</td>\n",
              "      <td>OUT049</td>\n",
              "      <td>1999</td>\n",
              "      <td>Medium</td>\n",
              "      <td>Tier 1</td>\n",
              "      <td>Supermarket Type1</td>\n",
              "    </tr>\n",
              "    <tr>\n",
              "      <th>1</th>\n",
              "      <td>FDW14</td>\n",
              "      <td>8.300</td>\n",
              "      <td>reg</td>\n",
              "      <td>0.038428</td>\n",
              "      <td>Dairy</td>\n",
              "      <td>87.3198</td>\n",
              "      <td>OUT017</td>\n",
              "      <td>2007</td>\n",
              "      <td>NaN</td>\n",
              "      <td>Tier 2</td>\n",
              "      <td>Supermarket Type1</td>\n",
              "    </tr>\n",
              "    <tr>\n",
              "      <th>2</th>\n",
              "      <td>NCN55</td>\n",
              "      <td>14.600</td>\n",
              "      <td>Low Fat</td>\n",
              "      <td>0.099575</td>\n",
              "      <td>Others</td>\n",
              "      <td>241.7538</td>\n",
              "      <td>OUT010</td>\n",
              "      <td>1998</td>\n",
              "      <td>NaN</td>\n",
              "      <td>Tier 3</td>\n",
              "      <td>Grocery Store</td>\n",
              "    </tr>\n",
              "    <tr>\n",
              "      <th>3</th>\n",
              "      <td>FDQ58</td>\n",
              "      <td>7.315</td>\n",
              "      <td>Low Fat</td>\n",
              "      <td>0.015388</td>\n",
              "      <td>Snack Foods</td>\n",
              "      <td>155.0340</td>\n",
              "      <td>OUT017</td>\n",
              "      <td>2007</td>\n",
              "      <td>NaN</td>\n",
              "      <td>Tier 2</td>\n",
              "      <td>Supermarket Type1</td>\n",
              "    </tr>\n",
              "    <tr>\n",
              "      <th>4</th>\n",
              "      <td>FDY38</td>\n",
              "      <td>NaN</td>\n",
              "      <td>Regular</td>\n",
              "      <td>0.118599</td>\n",
              "      <td>Dairy</td>\n",
              "      <td>234.2300</td>\n",
              "      <td>OUT027</td>\n",
              "      <td>1985</td>\n",
              "      <td>Medium</td>\n",
              "      <td>Tier 3</td>\n",
              "      <td>Supermarket Type3</td>\n",
              "    </tr>\n",
              "  </tbody>\n",
              "</table>\n",
              "</div>"
            ],
            "text/plain": [
              "  Item_Identifier  Item_Weight  ... Outlet_Location_Type        Outlet_Type\n",
              "0           FDW58       20.750  ...               Tier 1  Supermarket Type1\n",
              "1           FDW14        8.300  ...               Tier 2  Supermarket Type1\n",
              "2           NCN55       14.600  ...               Tier 3      Grocery Store\n",
              "3           FDQ58        7.315  ...               Tier 2  Supermarket Type1\n",
              "4           FDY38          NaN  ...               Tier 3  Supermarket Type3\n",
              "\n",
              "[5 rows x 11 columns]"
            ]
          },
          "metadata": {
            "tags": []
          },
          "execution_count": 92
        }
      ]
    },
    {
      "cell_type": "code",
      "metadata": {
        "id": "tfiiqQb0EDDi",
        "colab_type": "code",
        "colab": {}
      },
      "source": [
        ""
      ],
      "execution_count": null,
      "outputs": []
    },
    {
      "cell_type": "code",
      "metadata": {
        "id": "c6_oyNbyDOKI",
        "colab_type": "code",
        "colab": {}
      },
      "source": [
        "def concat(X,Y):\n",
        "    df= pd.concat([X,Y],ignore_index=True)\n",
        "    return df"
      ],
      "execution_count": null,
      "outputs": []
    },
    {
      "cell_type": "code",
      "metadata": {
        "id": "2Wd1x4JnDOKS",
        "colab_type": "code",
        "colab": {
          "base_uri": "https://localhost:8080/",
          "height": 34
        },
        "outputId": "19f2076b-b5fa-4afa-87fd-e7464140e716"
      },
      "source": [
        "df=concat(train,test)\n",
        "print(df.shape)"
      ],
      "execution_count": null,
      "outputs": [
        {
          "output_type": "stream",
          "text": [
            "(14204, 12)\n"
          ],
          "name": "stdout"
        }
      ]
    },
    {
      "cell_type": "code",
      "metadata": {
        "id": "TuMumqJFDOKd",
        "colab_type": "code",
        "colab": {
          "base_uri": "https://localhost:8080/",
          "height": 309
        },
        "outputId": "f43b2d7b-f772-4a00-c9e1-f808741d8aa1"
      },
      "source": [
        "df.head()"
      ],
      "execution_count": null,
      "outputs": [
        {
          "output_type": "execute_result",
          "data": {
            "text/html": [
              "<div>\n",
              "<style scoped>\n",
              "    .dataframe tbody tr th:only-of-type {\n",
              "        vertical-align: middle;\n",
              "    }\n",
              "\n",
              "    .dataframe tbody tr th {\n",
              "        vertical-align: top;\n",
              "    }\n",
              "\n",
              "    .dataframe thead th {\n",
              "        text-align: right;\n",
              "    }\n",
              "</style>\n",
              "<table border=\"1\" class=\"dataframe\">\n",
              "  <thead>\n",
              "    <tr style=\"text-align: right;\">\n",
              "      <th></th>\n",
              "      <th>Item_Identifier</th>\n",
              "      <th>Item_Weight</th>\n",
              "      <th>Item_Fat_Content</th>\n",
              "      <th>Item_Visibility</th>\n",
              "      <th>Item_Type</th>\n",
              "      <th>Item_MRP</th>\n",
              "      <th>Outlet_Identifier</th>\n",
              "      <th>Outlet_Establishment_Year</th>\n",
              "      <th>Outlet_Size</th>\n",
              "      <th>Outlet_Location_Type</th>\n",
              "      <th>Outlet_Type</th>\n",
              "      <th>Item_Outlet_Sales</th>\n",
              "    </tr>\n",
              "  </thead>\n",
              "  <tbody>\n",
              "    <tr>\n",
              "      <th>0</th>\n",
              "      <td>FDA15</td>\n",
              "      <td>9.30</td>\n",
              "      <td>Low Fat</td>\n",
              "      <td>0.016047</td>\n",
              "      <td>Dairy</td>\n",
              "      <td>249.8092</td>\n",
              "      <td>OUT049</td>\n",
              "      <td>1999</td>\n",
              "      <td>Medium</td>\n",
              "      <td>Tier 1</td>\n",
              "      <td>Supermarket Type1</td>\n",
              "      <td>3735.1380</td>\n",
              "    </tr>\n",
              "    <tr>\n",
              "      <th>1</th>\n",
              "      <td>DRC01</td>\n",
              "      <td>5.92</td>\n",
              "      <td>Regular</td>\n",
              "      <td>0.019278</td>\n",
              "      <td>Soft Drinks</td>\n",
              "      <td>48.2692</td>\n",
              "      <td>OUT018</td>\n",
              "      <td>2009</td>\n",
              "      <td>Medium</td>\n",
              "      <td>Tier 3</td>\n",
              "      <td>Supermarket Type2</td>\n",
              "      <td>443.4228</td>\n",
              "    </tr>\n",
              "    <tr>\n",
              "      <th>2</th>\n",
              "      <td>FDN15</td>\n",
              "      <td>17.50</td>\n",
              "      <td>Low Fat</td>\n",
              "      <td>0.016760</td>\n",
              "      <td>Meat</td>\n",
              "      <td>141.6180</td>\n",
              "      <td>OUT049</td>\n",
              "      <td>1999</td>\n",
              "      <td>Medium</td>\n",
              "      <td>Tier 1</td>\n",
              "      <td>Supermarket Type1</td>\n",
              "      <td>2097.2700</td>\n",
              "    </tr>\n",
              "    <tr>\n",
              "      <th>3</th>\n",
              "      <td>FDX07</td>\n",
              "      <td>19.20</td>\n",
              "      <td>Regular</td>\n",
              "      <td>0.000000</td>\n",
              "      <td>Fruits and Vegetables</td>\n",
              "      <td>182.0950</td>\n",
              "      <td>OUT010</td>\n",
              "      <td>1998</td>\n",
              "      <td>NaN</td>\n",
              "      <td>Tier 3</td>\n",
              "      <td>Grocery Store</td>\n",
              "      <td>732.3800</td>\n",
              "    </tr>\n",
              "    <tr>\n",
              "      <th>4</th>\n",
              "      <td>NCD19</td>\n",
              "      <td>8.93</td>\n",
              "      <td>Low Fat</td>\n",
              "      <td>0.000000</td>\n",
              "      <td>Household</td>\n",
              "      <td>53.8614</td>\n",
              "      <td>OUT013</td>\n",
              "      <td>1987</td>\n",
              "      <td>High</td>\n",
              "      <td>Tier 3</td>\n",
              "      <td>Supermarket Type1</td>\n",
              "      <td>994.7052</td>\n",
              "    </tr>\n",
              "  </tbody>\n",
              "</table>\n",
              "</div>"
            ],
            "text/plain": [
              "  Item_Identifier  Item_Weight  ...        Outlet_Type  Item_Outlet_Sales\n",
              "0           FDA15         9.30  ...  Supermarket Type1          3735.1380\n",
              "1           DRC01         5.92  ...  Supermarket Type2           443.4228\n",
              "2           FDN15        17.50  ...  Supermarket Type1          2097.2700\n",
              "3           FDX07        19.20  ...      Grocery Store           732.3800\n",
              "4           NCD19         8.93  ...  Supermarket Type1           994.7052\n",
              "\n",
              "[5 rows x 12 columns]"
            ]
          },
          "metadata": {
            "tags": []
          },
          "execution_count": 95
        }
      ]
    },
    {
      "cell_type": "code",
      "metadata": {
        "id": "vCm1G9OsDOKo",
        "colab_type": "code",
        "colab": {
          "base_uri": "https://localhost:8080/",
          "height": 238
        },
        "outputId": "6d9c9340-062c-4e51-b9ba-b324778b4fdf"
      },
      "source": [
        "df.isnull().sum()  \n",
        "#Checks number of null values for all the variables\n",
        "#Item_Weight has 2439 null values \n",
        "#Outlet Size has 4016 null values"
      ],
      "execution_count": null,
      "outputs": [
        {
          "output_type": "execute_result",
          "data": {
            "text/plain": [
              "Item_Identifier                 0\n",
              "Item_Weight                  2439\n",
              "Item_Fat_Content                0\n",
              "Item_Visibility                 0\n",
              "Item_Type                       0\n",
              "Item_MRP                        0\n",
              "Outlet_Identifier               0\n",
              "Outlet_Establishment_Year       0\n",
              "Outlet_Size                  4016\n",
              "Outlet_Location_Type            0\n",
              "Outlet_Type                     0\n",
              "Item_Outlet_Sales            5681\n",
              "dtype: int64"
            ]
          },
          "metadata": {
            "tags": []
          },
          "execution_count": 96
        }
      ]
    },
    {
      "cell_type": "code",
      "metadata": {
        "id": "t_4qbiWYDOKz",
        "colab_type": "code",
        "colab": {
          "base_uri": "https://localhost:8080/",
          "height": 238
        },
        "outputId": "1cd3a28d-6754-4a99-c465-e16f76b88930"
      },
      "source": [
        "df.apply(lambda x: len(x.unique()))\n",
        "#Checks the number of unique entries correspnding to each variable"
      ],
      "execution_count": null,
      "outputs": [
        {
          "output_type": "execute_result",
          "data": {
            "text/plain": [
              "Item_Identifier               1559\n",
              "Item_Weight                    416\n",
              "Item_Fat_Content                 5\n",
              "Item_Visibility              13006\n",
              "Item_Type                       16\n",
              "Item_MRP                      8052\n",
              "Outlet_Identifier               10\n",
              "Outlet_Establishment_Year        9\n",
              "Outlet_Size                      4\n",
              "Outlet_Location_Type             3\n",
              "Outlet_Type                      4\n",
              "Item_Outlet_Sales             3494\n",
              "dtype: int64"
            ]
          },
          "metadata": {
            "tags": []
          },
          "execution_count": 97
        }
      ]
    },
    {
      "cell_type": "code",
      "metadata": {
        "id": "c_6HhGkEDOLA",
        "colab_type": "code",
        "colab": {}
      },
      "source": [
        "#defining a function:\n",
        "#frequency of unique entries in each columns with their names\n",
        "\n",
        "def frequency_each_item(X,Y):\n",
        "    for i in Y:\n",
        "        print(\"frequency of each category for\",i)\n",
        "        print(X[i].value_counts())"
      ],
      "execution_count": null,
      "outputs": []
    },
    {
      "cell_type": "code",
      "metadata": {
        "id": "z8jmTKokDOLJ",
        "colab_type": "code",
        "colab": {
          "base_uri": "https://localhost:8080/",
          "height": 714
        },
        "outputId": "aa0698e6-8cbb-409e-e909-6b06ae6dc027"
      },
      "source": [
        "#frequency of unique entries in each columns with their names\n",
        "category=['Item_Fat_Content','Item_Type','Outlet_Location_Type','Outlet_Size','Outlet_Type']\n",
        "frequency_each_item(df,category)"
      ],
      "execution_count": null,
      "outputs": [
        {
          "output_type": "stream",
          "text": [
            "frequency of each category for Item_Fat_Content\n",
            "Low Fat    8485\n",
            "Regular    4824\n",
            "LF          522\n",
            "reg         195\n",
            "low fat     178\n",
            "Name: Item_Fat_Content, dtype: int64\n",
            "frequency of each category for Item_Type\n",
            "Fruits and Vegetables    2013\n",
            "Snack Foods              1989\n",
            "Household                1548\n",
            "Frozen Foods             1426\n",
            "Dairy                    1136\n",
            "Baking Goods             1086\n",
            "Canned                   1084\n",
            "Health and Hygiene        858\n",
            "Meat                      736\n",
            "Soft Drinks               726\n",
            "Breads                    416\n",
            "Hard Drinks               362\n",
            "Others                    280\n",
            "Starchy Foods             269\n",
            "Breakfast                 186\n",
            "Seafood                    89\n",
            "Name: Item_Type, dtype: int64\n",
            "frequency of each category for Outlet_Location_Type\n",
            "Tier 3    5583\n",
            "Tier 2    4641\n",
            "Tier 1    3980\n",
            "Name: Outlet_Location_Type, dtype: int64\n",
            "frequency of each category for Outlet_Size\n",
            "Medium    4655\n",
            "Small     3980\n",
            "High      1553\n",
            "Name: Outlet_Size, dtype: int64\n",
            "frequency of each category for Outlet_Type\n",
            "Supermarket Type1    9294\n",
            "Grocery Store        1805\n",
            "Supermarket Type3    1559\n",
            "Supermarket Type2    1546\n",
            "Name: Outlet_Type, dtype: int64\n"
          ],
          "name": "stdout"
        }
      ]
    },
    {
      "cell_type": "code",
      "metadata": {
        "id": "UlhftgGNDOLT",
        "colab_type": "code",
        "colab": {
          "base_uri": "https://localhost:8080/",
          "height": 119
        },
        "outputId": "61160daf-86c8-4af4-e48b-089737540bd1"
      },
      "source": [
        "#Determing the mode for each\n",
        "outlet_size_mode = df.pivot_table(values='Outlet_Size', columns='Outlet_Type',aggfunc=(lambda x:mode(x).mode[0]) )\n",
        "print('Mode for each Outlet_Type:')\n",
        "print(outlet_size_mode)\n",
        "\n",
        "#Get a boolean variable specifying missing Item_Weight values\n",
        "miss_bool = df['Outlet_Size'].isnull() \n",
        "\n",
        "#Impute data and check #missing values before and after imputation to confirm\n",
        "print('\\nOrignal #missing: %d'% sum(miss_bool))\n",
        "df.loc[miss_bool,'Outlet_Size'] = df.loc[miss_bool,'Outlet_Type'].apply(lambda x: outlet_size_mode[x])\n",
        "print(sum(df['Outlet_Size'].isnull()))"
      ],
      "execution_count": null,
      "outputs": [
        {
          "output_type": "stream",
          "text": [
            "Mode for each Outlet_Type:\n",
            "Outlet_Type Grocery Store Supermarket Type1 Supermarket Type2 Supermarket Type3\n",
            "Outlet_Size         Small             Small            Medium            Medium\n",
            "\n",
            "Orignal #missing: 4016\n",
            "0\n"
          ],
          "name": "stdout"
        }
      ]
    },
    {
      "cell_type": "code",
      "metadata": {
        "id": "r6U7uS8zDOLd",
        "colab_type": "code",
        "colab": {
          "base_uri": "https://localhost:8080/",
          "height": 309
        },
        "outputId": "5d9a500b-f280-4d33-cf14-dd0fd55846cd"
      },
      "source": [
        "# Correcting the mis-written datas\n",
        "df['Item_Fat_Content'].replace(to_replace =['low fat','reg','LF'], \n",
        "                 value =['Low Fat','Regular','Low Fat'],inplace=True)\n",
        "df['Item_Fat_Content'].value_counts()\n",
        "df.head()"
      ],
      "execution_count": null,
      "outputs": [
        {
          "output_type": "execute_result",
          "data": {
            "text/html": [
              "<div>\n",
              "<style scoped>\n",
              "    .dataframe tbody tr th:only-of-type {\n",
              "        vertical-align: middle;\n",
              "    }\n",
              "\n",
              "    .dataframe tbody tr th {\n",
              "        vertical-align: top;\n",
              "    }\n",
              "\n",
              "    .dataframe thead th {\n",
              "        text-align: right;\n",
              "    }\n",
              "</style>\n",
              "<table border=\"1\" class=\"dataframe\">\n",
              "  <thead>\n",
              "    <tr style=\"text-align: right;\">\n",
              "      <th></th>\n",
              "      <th>Item_Identifier</th>\n",
              "      <th>Item_Weight</th>\n",
              "      <th>Item_Fat_Content</th>\n",
              "      <th>Item_Visibility</th>\n",
              "      <th>Item_Type</th>\n",
              "      <th>Item_MRP</th>\n",
              "      <th>Outlet_Identifier</th>\n",
              "      <th>Outlet_Establishment_Year</th>\n",
              "      <th>Outlet_Size</th>\n",
              "      <th>Outlet_Location_Type</th>\n",
              "      <th>Outlet_Type</th>\n",
              "      <th>Item_Outlet_Sales</th>\n",
              "    </tr>\n",
              "  </thead>\n",
              "  <tbody>\n",
              "    <tr>\n",
              "      <th>0</th>\n",
              "      <td>FDA15</td>\n",
              "      <td>9.30</td>\n",
              "      <td>Low Fat</td>\n",
              "      <td>0.016047</td>\n",
              "      <td>Dairy</td>\n",
              "      <td>249.8092</td>\n",
              "      <td>OUT049</td>\n",
              "      <td>1999</td>\n",
              "      <td>Medium</td>\n",
              "      <td>Tier 1</td>\n",
              "      <td>Supermarket Type1</td>\n",
              "      <td>3735.1380</td>\n",
              "    </tr>\n",
              "    <tr>\n",
              "      <th>1</th>\n",
              "      <td>DRC01</td>\n",
              "      <td>5.92</td>\n",
              "      <td>Regular</td>\n",
              "      <td>0.019278</td>\n",
              "      <td>Soft Drinks</td>\n",
              "      <td>48.2692</td>\n",
              "      <td>OUT018</td>\n",
              "      <td>2009</td>\n",
              "      <td>Medium</td>\n",
              "      <td>Tier 3</td>\n",
              "      <td>Supermarket Type2</td>\n",
              "      <td>443.4228</td>\n",
              "    </tr>\n",
              "    <tr>\n",
              "      <th>2</th>\n",
              "      <td>FDN15</td>\n",
              "      <td>17.50</td>\n",
              "      <td>Low Fat</td>\n",
              "      <td>0.016760</td>\n",
              "      <td>Meat</td>\n",
              "      <td>141.6180</td>\n",
              "      <td>OUT049</td>\n",
              "      <td>1999</td>\n",
              "      <td>Medium</td>\n",
              "      <td>Tier 1</td>\n",
              "      <td>Supermarket Type1</td>\n",
              "      <td>2097.2700</td>\n",
              "    </tr>\n",
              "    <tr>\n",
              "      <th>3</th>\n",
              "      <td>FDX07</td>\n",
              "      <td>19.20</td>\n",
              "      <td>Regular</td>\n",
              "      <td>0.000000</td>\n",
              "      <td>Fruits and Vegetables</td>\n",
              "      <td>182.0950</td>\n",
              "      <td>OUT010</td>\n",
              "      <td>1998</td>\n",
              "      <td>Small</td>\n",
              "      <td>Tier 3</td>\n",
              "      <td>Grocery Store</td>\n",
              "      <td>732.3800</td>\n",
              "    </tr>\n",
              "    <tr>\n",
              "      <th>4</th>\n",
              "      <td>NCD19</td>\n",
              "      <td>8.93</td>\n",
              "      <td>Low Fat</td>\n",
              "      <td>0.000000</td>\n",
              "      <td>Household</td>\n",
              "      <td>53.8614</td>\n",
              "      <td>OUT013</td>\n",
              "      <td>1987</td>\n",
              "      <td>High</td>\n",
              "      <td>Tier 3</td>\n",
              "      <td>Supermarket Type1</td>\n",
              "      <td>994.7052</td>\n",
              "    </tr>\n",
              "  </tbody>\n",
              "</table>\n",
              "</div>"
            ],
            "text/plain": [
              "  Item_Identifier  Item_Weight  ...        Outlet_Type  Item_Outlet_Sales\n",
              "0           FDA15         9.30  ...  Supermarket Type1          3735.1380\n",
              "1           DRC01         5.92  ...  Supermarket Type2           443.4228\n",
              "2           FDN15        17.50  ...  Supermarket Type1          2097.2700\n",
              "3           FDX07        19.20  ...      Grocery Store           732.3800\n",
              "4           NCD19         8.93  ...  Supermarket Type1           994.7052\n",
              "\n",
              "[5 rows x 12 columns]"
            ]
          },
          "metadata": {
            "tags": []
          },
          "execution_count": 101
        }
      ]
    },
    {
      "cell_type": "code",
      "metadata": {
        "id": "YzusSOnmDOLn",
        "colab_type": "code",
        "colab": {
          "base_uri": "https://localhost:8080/",
          "height": 306
        },
        "outputId": "ec9979fd-f554-40fd-9d4a-af6c3341c499"
      },
      "source": [
        "avg_item_weight=df.pivot_table(values='Item_Weight', index='Item_Identifier',aggfunc=[np.mean])\n",
        "print(avg_item_weight)\n",
        "bool=df['Item_Weight'].isnull()\n",
        "df.loc[bool,'Item_Weight']=df.loc[bool,'Item_Identifier'].apply(lambda x :avg_item_weight.loc[x]).values\n",
        "print(sum(df['Item_Weight'].isnull()))"
      ],
      "execution_count": null,
      "outputs": [
        {
          "output_type": "stream",
          "text": [
            "                       mean\n",
            "                Item_Weight\n",
            "Item_Identifier            \n",
            "DRA12                11.600\n",
            "DRA24                19.350\n",
            "DRA59                 8.270\n",
            "DRB01                 7.390\n",
            "DRB13                 6.115\n",
            "...                     ...\n",
            "NCZ30                 6.590\n",
            "NCZ41                19.850\n",
            "NCZ42                10.500\n",
            "NCZ53                 9.600\n",
            "NCZ54                14.650\n",
            "\n",
            "[1559 rows x 1 columns]\n",
            "0\n"
          ],
          "name": "stdout"
        }
      ]
    },
    {
      "cell_type": "code",
      "metadata": {
        "id": "MCJf-hKHDOLx",
        "colab_type": "code",
        "colab": {
          "base_uri": "https://localhost:8080/",
          "height": 309
        },
        "outputId": "ff88ca0b-1dc6-4698-842b-f27663822ae6"
      },
      "source": [
        "#Reducing food category to only 3 types with the help of the first 2 alphabets of the Item_Identifier column\n",
        "\n",
        "df['Item_Type_combined']=df['Item_Identifier'].apply(lambda x : x[0:2])\n",
        "df['Item_Type_combined'].replace(to_replace =['FD','DR','NC'], \n",
        "                 value =['Food','Drinks','Non_consumable'],inplace=True)\n",
        " #dropping the redundant column\n",
        "df=df.drop(columns=['Item_Type'])     \n",
        "df.head()"
      ],
      "execution_count": null,
      "outputs": [
        {
          "output_type": "execute_result",
          "data": {
            "text/html": [
              "<div>\n",
              "<style scoped>\n",
              "    .dataframe tbody tr th:only-of-type {\n",
              "        vertical-align: middle;\n",
              "    }\n",
              "\n",
              "    .dataframe tbody tr th {\n",
              "        vertical-align: top;\n",
              "    }\n",
              "\n",
              "    .dataframe thead th {\n",
              "        text-align: right;\n",
              "    }\n",
              "</style>\n",
              "<table border=\"1\" class=\"dataframe\">\n",
              "  <thead>\n",
              "    <tr style=\"text-align: right;\">\n",
              "      <th></th>\n",
              "      <th>Item_Identifier</th>\n",
              "      <th>Item_Weight</th>\n",
              "      <th>Item_Fat_Content</th>\n",
              "      <th>Item_Visibility</th>\n",
              "      <th>Item_MRP</th>\n",
              "      <th>Outlet_Identifier</th>\n",
              "      <th>Outlet_Establishment_Year</th>\n",
              "      <th>Outlet_Size</th>\n",
              "      <th>Outlet_Location_Type</th>\n",
              "      <th>Outlet_Type</th>\n",
              "      <th>Item_Outlet_Sales</th>\n",
              "      <th>Item_Type_combined</th>\n",
              "    </tr>\n",
              "  </thead>\n",
              "  <tbody>\n",
              "    <tr>\n",
              "      <th>0</th>\n",
              "      <td>FDA15</td>\n",
              "      <td>9.30</td>\n",
              "      <td>Low Fat</td>\n",
              "      <td>0.016047</td>\n",
              "      <td>249.8092</td>\n",
              "      <td>OUT049</td>\n",
              "      <td>1999</td>\n",
              "      <td>Medium</td>\n",
              "      <td>Tier 1</td>\n",
              "      <td>Supermarket Type1</td>\n",
              "      <td>3735.1380</td>\n",
              "      <td>Food</td>\n",
              "    </tr>\n",
              "    <tr>\n",
              "      <th>1</th>\n",
              "      <td>DRC01</td>\n",
              "      <td>5.92</td>\n",
              "      <td>Regular</td>\n",
              "      <td>0.019278</td>\n",
              "      <td>48.2692</td>\n",
              "      <td>OUT018</td>\n",
              "      <td>2009</td>\n",
              "      <td>Medium</td>\n",
              "      <td>Tier 3</td>\n",
              "      <td>Supermarket Type2</td>\n",
              "      <td>443.4228</td>\n",
              "      <td>Drinks</td>\n",
              "    </tr>\n",
              "    <tr>\n",
              "      <th>2</th>\n",
              "      <td>FDN15</td>\n",
              "      <td>17.50</td>\n",
              "      <td>Low Fat</td>\n",
              "      <td>0.016760</td>\n",
              "      <td>141.6180</td>\n",
              "      <td>OUT049</td>\n",
              "      <td>1999</td>\n",
              "      <td>Medium</td>\n",
              "      <td>Tier 1</td>\n",
              "      <td>Supermarket Type1</td>\n",
              "      <td>2097.2700</td>\n",
              "      <td>Food</td>\n",
              "    </tr>\n",
              "    <tr>\n",
              "      <th>3</th>\n",
              "      <td>FDX07</td>\n",
              "      <td>19.20</td>\n",
              "      <td>Regular</td>\n",
              "      <td>0.000000</td>\n",
              "      <td>182.0950</td>\n",
              "      <td>OUT010</td>\n",
              "      <td>1998</td>\n",
              "      <td>Small</td>\n",
              "      <td>Tier 3</td>\n",
              "      <td>Grocery Store</td>\n",
              "      <td>732.3800</td>\n",
              "      <td>Food</td>\n",
              "    </tr>\n",
              "    <tr>\n",
              "      <th>4</th>\n",
              "      <td>NCD19</td>\n",
              "      <td>8.93</td>\n",
              "      <td>Low Fat</td>\n",
              "      <td>0.000000</td>\n",
              "      <td>53.8614</td>\n",
              "      <td>OUT013</td>\n",
              "      <td>1987</td>\n",
              "      <td>High</td>\n",
              "      <td>Tier 3</td>\n",
              "      <td>Supermarket Type1</td>\n",
              "      <td>994.7052</td>\n",
              "      <td>Non_consumable</td>\n",
              "    </tr>\n",
              "  </tbody>\n",
              "</table>\n",
              "</div>"
            ],
            "text/plain": [
              "  Item_Identifier  Item_Weight  ... Item_Outlet_Sales  Item_Type_combined\n",
              "0           FDA15         9.30  ...         3735.1380                Food\n",
              "1           DRC01         5.92  ...          443.4228              Drinks\n",
              "2           FDN15        17.50  ...         2097.2700                Food\n",
              "3           FDX07        19.20  ...          732.3800                Food\n",
              "4           NCD19         8.93  ...          994.7052      Non_consumable\n",
              "\n",
              "[5 rows x 12 columns]"
            ]
          },
          "metadata": {
            "tags": []
          },
          "execution_count": 103
        }
      ]
    },
    {
      "cell_type": "code",
      "metadata": {
        "id": "ID8LxMtjDOL8",
        "colab_type": "code",
        "colab": {
          "base_uri": "https://localhost:8080/",
          "height": 85
        },
        "outputId": "597de8aa-991a-407f-917a-b3955ff7aef3"
      },
      "source": [
        "#Calculating number of Item_fat_contents that are also non_consumable\n",
        "\n",
        "bool3=df['Item_Type_combined']=='Non_consumable'\n",
        "df['Item_Fat_Content'][bool3]='Non_edible'\n",
        "df['Item_Fat_Content'].value_counts()"
      ],
      "execution_count": null,
      "outputs": [
        {
          "output_type": "execute_result",
          "data": {
            "text/plain": [
              "Low Fat       6499\n",
              "Regular       5019\n",
              "Non_edible    2686\n",
              "Name: Item_Fat_Content, dtype: int64"
            ]
          },
          "metadata": {
            "tags": []
          },
          "execution_count": 104
        }
      ]
    },
    {
      "cell_type": "code",
      "metadata": {
        "id": "xM8ORya7DOMG",
        "colab_type": "code",
        "colab": {
          "base_uri": "https://localhost:8080/",
          "height": 309
        },
        "outputId": "587683d2-d70f-47b5-8809-79f0e179b343"
      },
      "source": [
        "#Using feature Engineering and adding new column\n",
        "df['yearsold']=2013-df['Outlet_Establishment_Year']\n",
        "df=df.drop(columns=['Outlet_Establishment_Year'])\n",
        "df.head()"
      ],
      "execution_count": null,
      "outputs": [
        {
          "output_type": "execute_result",
          "data": {
            "text/html": [
              "<div>\n",
              "<style scoped>\n",
              "    .dataframe tbody tr th:only-of-type {\n",
              "        vertical-align: middle;\n",
              "    }\n",
              "\n",
              "    .dataframe tbody tr th {\n",
              "        vertical-align: top;\n",
              "    }\n",
              "\n",
              "    .dataframe thead th {\n",
              "        text-align: right;\n",
              "    }\n",
              "</style>\n",
              "<table border=\"1\" class=\"dataframe\">\n",
              "  <thead>\n",
              "    <tr style=\"text-align: right;\">\n",
              "      <th></th>\n",
              "      <th>Item_Identifier</th>\n",
              "      <th>Item_Weight</th>\n",
              "      <th>Item_Fat_Content</th>\n",
              "      <th>Item_Visibility</th>\n",
              "      <th>Item_MRP</th>\n",
              "      <th>Outlet_Identifier</th>\n",
              "      <th>Outlet_Size</th>\n",
              "      <th>Outlet_Location_Type</th>\n",
              "      <th>Outlet_Type</th>\n",
              "      <th>Item_Outlet_Sales</th>\n",
              "      <th>Item_Type_combined</th>\n",
              "      <th>yearsold</th>\n",
              "    </tr>\n",
              "  </thead>\n",
              "  <tbody>\n",
              "    <tr>\n",
              "      <th>0</th>\n",
              "      <td>FDA15</td>\n",
              "      <td>9.30</td>\n",
              "      <td>Low Fat</td>\n",
              "      <td>0.016047</td>\n",
              "      <td>249.8092</td>\n",
              "      <td>OUT049</td>\n",
              "      <td>Medium</td>\n",
              "      <td>Tier 1</td>\n",
              "      <td>Supermarket Type1</td>\n",
              "      <td>3735.1380</td>\n",
              "      <td>Food</td>\n",
              "      <td>14</td>\n",
              "    </tr>\n",
              "    <tr>\n",
              "      <th>1</th>\n",
              "      <td>DRC01</td>\n",
              "      <td>5.92</td>\n",
              "      <td>Regular</td>\n",
              "      <td>0.019278</td>\n",
              "      <td>48.2692</td>\n",
              "      <td>OUT018</td>\n",
              "      <td>Medium</td>\n",
              "      <td>Tier 3</td>\n",
              "      <td>Supermarket Type2</td>\n",
              "      <td>443.4228</td>\n",
              "      <td>Drinks</td>\n",
              "      <td>4</td>\n",
              "    </tr>\n",
              "    <tr>\n",
              "      <th>2</th>\n",
              "      <td>FDN15</td>\n",
              "      <td>17.50</td>\n",
              "      <td>Low Fat</td>\n",
              "      <td>0.016760</td>\n",
              "      <td>141.6180</td>\n",
              "      <td>OUT049</td>\n",
              "      <td>Medium</td>\n",
              "      <td>Tier 1</td>\n",
              "      <td>Supermarket Type1</td>\n",
              "      <td>2097.2700</td>\n",
              "      <td>Food</td>\n",
              "      <td>14</td>\n",
              "    </tr>\n",
              "    <tr>\n",
              "      <th>3</th>\n",
              "      <td>FDX07</td>\n",
              "      <td>19.20</td>\n",
              "      <td>Regular</td>\n",
              "      <td>0.000000</td>\n",
              "      <td>182.0950</td>\n",
              "      <td>OUT010</td>\n",
              "      <td>Small</td>\n",
              "      <td>Tier 3</td>\n",
              "      <td>Grocery Store</td>\n",
              "      <td>732.3800</td>\n",
              "      <td>Food</td>\n",
              "      <td>15</td>\n",
              "    </tr>\n",
              "    <tr>\n",
              "      <th>4</th>\n",
              "      <td>NCD19</td>\n",
              "      <td>8.93</td>\n",
              "      <td>Non_edible</td>\n",
              "      <td>0.000000</td>\n",
              "      <td>53.8614</td>\n",
              "      <td>OUT013</td>\n",
              "      <td>High</td>\n",
              "      <td>Tier 3</td>\n",
              "      <td>Supermarket Type1</td>\n",
              "      <td>994.7052</td>\n",
              "      <td>Non_consumable</td>\n",
              "      <td>26</td>\n",
              "    </tr>\n",
              "  </tbody>\n",
              "</table>\n",
              "</div>"
            ],
            "text/plain": [
              "  Item_Identifier  Item_Weight  ... Item_Type_combined  yearsold\n",
              "0           FDA15         9.30  ...               Food        14\n",
              "1           DRC01         5.92  ...             Drinks         4\n",
              "2           FDN15        17.50  ...               Food        14\n",
              "3           FDX07        19.20  ...               Food        15\n",
              "4           NCD19         8.93  ...     Non_consumable        26\n",
              "\n",
              "[5 rows x 12 columns]"
            ]
          },
          "metadata": {
            "tags": []
          },
          "execution_count": 105
        }
      ]
    },
    {
      "cell_type": "code",
      "metadata": {
        "id": "zoo1R9iKDOMP",
        "colab_type": "code",
        "colab": {
          "base_uri": "https://localhost:8080/",
          "height": 170
        },
        "outputId": "b61d45f3-bfd5-4952-8cb7-7eed1b031c58"
      },
      "source": [
        "UniqueItems = set(df.Item_Identifier)\n",
        "for each in UniqueItems:\n",
        "    df.loc[(df[\"Item_Identifier\"]==str(each)) & (df[\"Item_Visibility\"]==0),\"Item_Visibility\"] = df.loc[(df[\"Item_Identifier\"]==str(each)) & (df[\"Item_Visibility\"]!=0),\"Item_Visibility\"].mean()\n",
        "df[\"Item_Visibility\"].describe()"
      ],
      "execution_count": null,
      "outputs": [
        {
          "output_type": "execute_result",
          "data": {
            "text/plain": [
              "count    14204.000000\n",
              "mean         0.070458\n",
              "std          0.050086\n",
              "min          0.003575\n",
              "25%          0.031381\n",
              "50%          0.058064\n",
              "75%          0.098042\n",
              "max          0.328391\n",
              "Name: Item_Visibility, dtype: float64"
            ]
          },
          "metadata": {
            "tags": []
          },
          "execution_count": 106
        }
      ]
    },
    {
      "cell_type": "code",
      "metadata": {
        "id": "yG1cgW86DOMZ",
        "colab_type": "code",
        "colab": {
          "base_uri": "https://localhost:8080/",
          "height": 204
        },
        "outputId": "7d455a36-35d6-4f4c-ff6c-4eeab3693a00"
      },
      "source": [
        "#Checks for correation between different numerical columns\n",
        "df.corr()"
      ],
      "execution_count": null,
      "outputs": [
        {
          "output_type": "execute_result",
          "data": {
            "text/html": [
              "<div>\n",
              "<style scoped>\n",
              "    .dataframe tbody tr th:only-of-type {\n",
              "        vertical-align: middle;\n",
              "    }\n",
              "\n",
              "    .dataframe tbody tr th {\n",
              "        vertical-align: top;\n",
              "    }\n",
              "\n",
              "    .dataframe thead th {\n",
              "        text-align: right;\n",
              "    }\n",
              "</style>\n",
              "<table border=\"1\" class=\"dataframe\">\n",
              "  <thead>\n",
              "    <tr style=\"text-align: right;\">\n",
              "      <th></th>\n",
              "      <th>Item_Weight</th>\n",
              "      <th>Item_Visibility</th>\n",
              "      <th>Item_MRP</th>\n",
              "      <th>Item_Outlet_Sales</th>\n",
              "      <th>yearsold</th>\n",
              "    </tr>\n",
              "  </thead>\n",
              "  <tbody>\n",
              "    <tr>\n",
              "      <th>Item_Weight</th>\n",
              "      <td>1.000000</td>\n",
              "      <td>-0.023856</td>\n",
              "      <td>0.035751</td>\n",
              "      <td>0.013261</td>\n",
              "      <td>-0.000247</td>\n",
              "    </tr>\n",
              "    <tr>\n",
              "      <th>Item_Visibility</th>\n",
              "      <td>-0.023856</td>\n",
              "      <td>1.000000</td>\n",
              "      <td>-0.009052</td>\n",
              "      <td>-0.127014</td>\n",
              "      <td>0.083799</td>\n",
              "    </tr>\n",
              "    <tr>\n",
              "      <th>Item_MRP</th>\n",
              "      <td>0.035751</td>\n",
              "      <td>-0.009052</td>\n",
              "      <td>1.000000</td>\n",
              "      <td>0.567574</td>\n",
              "      <td>-0.000141</td>\n",
              "    </tr>\n",
              "    <tr>\n",
              "      <th>Item_Outlet_Sales</th>\n",
              "      <td>0.013261</td>\n",
              "      <td>-0.127014</td>\n",
              "      <td>0.567574</td>\n",
              "      <td>1.000000</td>\n",
              "      <td>0.049135</td>\n",
              "    </tr>\n",
              "    <tr>\n",
              "      <th>yearsold</th>\n",
              "      <td>-0.000247</td>\n",
              "      <td>0.083799</td>\n",
              "      <td>-0.000141</td>\n",
              "      <td>0.049135</td>\n",
              "      <td>1.000000</td>\n",
              "    </tr>\n",
              "  </tbody>\n",
              "</table>\n",
              "</div>"
            ],
            "text/plain": [
              "                   Item_Weight  Item_Visibility  ...  Item_Outlet_Sales  yearsold\n",
              "Item_Weight           1.000000        -0.023856  ...           0.013261 -0.000247\n",
              "Item_Visibility      -0.023856         1.000000  ...          -0.127014  0.083799\n",
              "Item_MRP              0.035751        -0.009052  ...           0.567574 -0.000141\n",
              "Item_Outlet_Sales     0.013261        -0.127014  ...           1.000000  0.049135\n",
              "yearsold             -0.000247         0.083799  ...           0.049135  1.000000\n",
              "\n",
              "[5 rows x 5 columns]"
            ]
          },
          "metadata": {
            "tags": []
          },
          "execution_count": 107
        }
      ]
    },
    {
      "cell_type": "markdown",
      "metadata": {
        "id": "7n6G1hu_DOMi",
        "colab_type": "text"
      },
      "source": [
        "# Identifying outliers and fixing them"
      ]
    },
    {
      "cell_type": "code",
      "metadata": {
        "id": "AUTZ3TXODOMl",
        "colab_type": "code",
        "colab": {
          "base_uri": "https://localhost:8080/",
          "height": 297
        },
        "outputId": "e0fcf137-4501-4bda-d327-cd09e53feaca"
      },
      "source": [
        "df.describe()            "
      ],
      "execution_count": null,
      "outputs": [
        {
          "output_type": "execute_result",
          "data": {
            "text/html": [
              "<div>\n",
              "<style scoped>\n",
              "    .dataframe tbody tr th:only-of-type {\n",
              "        vertical-align: middle;\n",
              "    }\n",
              "\n",
              "    .dataframe tbody tr th {\n",
              "        vertical-align: top;\n",
              "    }\n",
              "\n",
              "    .dataframe thead th {\n",
              "        text-align: right;\n",
              "    }\n",
              "</style>\n",
              "<table border=\"1\" class=\"dataframe\">\n",
              "  <thead>\n",
              "    <tr style=\"text-align: right;\">\n",
              "      <th></th>\n",
              "      <th>Item_Weight</th>\n",
              "      <th>Item_Visibility</th>\n",
              "      <th>Item_MRP</th>\n",
              "      <th>Item_Outlet_Sales</th>\n",
              "      <th>yearsold</th>\n",
              "    </tr>\n",
              "  </thead>\n",
              "  <tbody>\n",
              "    <tr>\n",
              "      <th>count</th>\n",
              "      <td>14204.000000</td>\n",
              "      <td>14204.000000</td>\n",
              "      <td>14204.000000</td>\n",
              "      <td>8523.000000</td>\n",
              "      <td>14204.000000</td>\n",
              "    </tr>\n",
              "    <tr>\n",
              "      <th>mean</th>\n",
              "      <td>12.793380</td>\n",
              "      <td>0.070458</td>\n",
              "      <td>141.004977</td>\n",
              "      <td>2181.288914</td>\n",
              "      <td>15.169319</td>\n",
              "    </tr>\n",
              "    <tr>\n",
              "      <th>std</th>\n",
              "      <td>4.651716</td>\n",
              "      <td>0.050086</td>\n",
              "      <td>62.086938</td>\n",
              "      <td>1706.499616</td>\n",
              "      <td>8.371664</td>\n",
              "    </tr>\n",
              "    <tr>\n",
              "      <th>min</th>\n",
              "      <td>4.555000</td>\n",
              "      <td>0.003575</td>\n",
              "      <td>31.290000</td>\n",
              "      <td>33.290000</td>\n",
              "      <td>4.000000</td>\n",
              "    </tr>\n",
              "    <tr>\n",
              "      <th>25%</th>\n",
              "      <td>8.710000</td>\n",
              "      <td>0.031381</td>\n",
              "      <td>94.012000</td>\n",
              "      <td>834.247400</td>\n",
              "      <td>9.000000</td>\n",
              "    </tr>\n",
              "    <tr>\n",
              "      <th>50%</th>\n",
              "      <td>12.600000</td>\n",
              "      <td>0.058064</td>\n",
              "      <td>142.247000</td>\n",
              "      <td>1794.331000</td>\n",
              "      <td>14.000000</td>\n",
              "    </tr>\n",
              "    <tr>\n",
              "      <th>75%</th>\n",
              "      <td>16.750000</td>\n",
              "      <td>0.098042</td>\n",
              "      <td>185.855600</td>\n",
              "      <td>3101.296400</td>\n",
              "      <td>26.000000</td>\n",
              "    </tr>\n",
              "    <tr>\n",
              "      <th>max</th>\n",
              "      <td>21.350000</td>\n",
              "      <td>0.328391</td>\n",
              "      <td>266.888400</td>\n",
              "      <td>13086.964800</td>\n",
              "      <td>28.000000</td>\n",
              "    </tr>\n",
              "  </tbody>\n",
              "</table>\n",
              "</div>"
            ],
            "text/plain": [
              "        Item_Weight  Item_Visibility  ...  Item_Outlet_Sales      yearsold\n",
              "count  14204.000000     14204.000000  ...        8523.000000  14204.000000\n",
              "mean      12.793380         0.070458  ...        2181.288914     15.169319\n",
              "std        4.651716         0.050086  ...        1706.499616      8.371664\n",
              "min        4.555000         0.003575  ...          33.290000      4.000000\n",
              "25%        8.710000         0.031381  ...         834.247400      9.000000\n",
              "50%       12.600000         0.058064  ...        1794.331000     14.000000\n",
              "75%       16.750000         0.098042  ...        3101.296400     26.000000\n",
              "max       21.350000         0.328391  ...       13086.964800     28.000000\n",
              "\n",
              "[8 rows x 5 columns]"
            ]
          },
          "metadata": {
            "tags": []
          },
          "execution_count": 108
        }
      ]
    },
    {
      "cell_type": "code",
      "metadata": {
        "id": "BtH7sjY6DOMx",
        "colab_type": "code",
        "colab": {
          "base_uri": "https://localhost:8080/",
          "height": 285
        },
        "outputId": "baed5c39-b71f-4880-f627-bdef0fc5f6b0"
      },
      "source": [
        "sns.set(style=\"whitegrid\")\n",
        "ax = sns.boxplot(x=df[\"Item_Outlet_Sales\"])"
      ],
      "execution_count": null,
      "outputs": [
        {
          "output_type": "display_data",
          "data": {
            "image/png": "[encoded data removed]",
            "text/plain": [
              "<Figure size 432x288 with 1 Axes>"
            ]
          },
          "metadata": {
            "tags": []
          }
        }
      ]
    },
    {
      "cell_type": "code",
      "metadata": {
        "id": "N5LXnoTYDOM7",
        "colab_type": "code",
        "colab": {}
      },
      "source": [
        "#As we know only Item_Outlet_Sales have outliers we can fix them but fixing them will increase our RMSE score \n",
        "#to a large extent"
      ],
      "execution_count": null,
      "outputs": []
    },
    {
      "cell_type": "markdown",
      "metadata": {
        "id": "48gwBxvrDONI",
        "colab_type": "text"
      },
      "source": [
        "# Plotting Graphs for more Analysis"
      ]
    },
    {
      "cell_type": "code",
      "metadata": {
        "id": "PZQI-IcFDONK",
        "colab_type": "code",
        "colab": {
          "base_uri": "https://localhost:8080/",
          "height": 268
        },
        "outputId": "a2b08b2f-a8da-41e0-eb30-e7ea21964e0c"
      },
      "source": [
        "#value of sales increases for the increase in MRP of the item\n",
        "plt.scatter(df.Item_MRP,df.Item_Outlet_Sales,c='g')\n",
        "plt.show()\n"
      ],
      "execution_count": null,
      "outputs": [
        {
          "output_type": "display_data",
          "data": {
            "image/png": "[encoded data removed]",
            "text/plain": [
              "<Figure size 432x288 with 1 Axes>"
            ]
          },
          "metadata": {
            "tags": []
          }
        }
      ]
    },
    {
      "cell_type": "code",
      "metadata": {
        "id": "zcCn7pxmDONU",
        "colab_type": "code",
        "colab": {
          "base_uri": "https://localhost:8080/",
          "height": 194
        },
        "outputId": "4020be36-51d0-4fb6-c220-d2f929acf73c"
      },
      "source": [
        "sns.FacetGrid(df, col='Item_Type_combined', size=3, col_wrap=5) \\\n",
        "    .map(plt.hist, 'Item_Outlet_Sales') \\\n",
        "    .add_legend();\n",
        "# Maximum contribution to outlet sales is from Items that are food type and least is from drinks"
      ],
      "execution_count": null,
      "outputs": [
        {
          "output_type": "display_data",
          "data": {
            "image/png": "[encoded data removed]",
            "text/plain": [
              "<Figure size 1088.8x216 with 3 Axes>"
            ]
          },
          "metadata": {
            "tags": []
          }
        }
      ]
    },
    {
      "cell_type": "code",
      "metadata": {
        "id": "cHI6AnAFDONd",
        "colab_type": "code",
        "colab": {
          "base_uri": "https://localhost:8080/",
          "height": 194
        },
        "outputId": "d9fe6c67-9b97-4311-a277-47bfad77a026"
      },
      "source": [
        "sns.FacetGrid(df, col='Outlet_Location_Type', size=3, col_wrap=5) \\\n",
        "    .map(plt.hist, 'Item_Outlet_Sales') \\\n",
        "    .add_legend();\n",
        "#Tier3 type of outlet location provides for the maximum sales and other two provides the least sales"
      ],
      "execution_count": null,
      "outputs": [
        {
          "output_type": "display_data",
          "data": {
            "image/png": "[encoded data removed]",
            "text/plain": [
              "<Figure size 1088.8x216 with 3 Axes>"
            ]
          },
          "metadata": {
            "tags": []
          }
        }
      ]
    },
    {
      "cell_type": "code",
      "metadata": {
        "id": "dOryx7pbDONm",
        "colab_type": "code",
        "colab": {
          "base_uri": "https://localhost:8080/",
          "height": 194
        },
        "outputId": "ae3852e4-f539-4bf0-cb9e-d18f0b348414"
      },
      "source": [
        "sns.FacetGrid(df, col='Outlet_Size', size=3, col_wrap=5) \\\n",
        "    .map(plt.hist, 'Item_Outlet_Sales') \\\n",
        "    .add_legend();\n",
        "#Small sized Outlets are providing the maximum sales whereas large sized outlets \n",
        "# are contributing the least"
      ],
      "execution_count": null,
      "outputs": [
        {
          "output_type": "display_data",
          "data": {
            "image/png": "[encoded data removed]",
            "text/plain": [
              "<Figure size 1088.8x216 with 3 Axes>"
            ]
          },
          "metadata": {
            "tags": []
          }
        }
      ]
    },
    {
      "cell_type": "code",
      "metadata": {
        "id": "LonUNbixDONw",
        "colab_type": "code",
        "colab": {
          "base_uri": "https://localhost:8080/",
          "height": 194
        },
        "outputId": "054769e8-8522-46d6-e9fb-ae7a27602b70"
      },
      "source": [
        "sns.FacetGrid(df, col='Item_Fat_Content', size=3, col_wrap=5) \\\n",
        "    .map(plt.hist, 'Item_Outlet_Sales') \\\n",
        "    .add_legend();\n",
        "# people are prefering items with lowest fat content the most "
      ],
      "execution_count": null,
      "outputs": [
        {
          "output_type": "display_data",
          "data": {
            "image/png": "[encoded data removed]",
            "text/plain": [
              "<Figure size 1088.8x216 with 3 Axes>"
            ]
          },
          "metadata": {
            "tags": []
          }
        }
      ]
    },
    {
      "cell_type": "code",
      "metadata": {
        "id": "1nqaqQeRDON7",
        "colab_type": "code",
        "colab": {
          "base_uri": "https://localhost:8080/",
          "height": 437
        },
        "outputId": "7579ee0e-cf4e-43cf-d368-9edbf0dd6c40"
      },
      "source": [
        "sns.FacetGrid(df, col='Outlet_Type', size=3, col_wrap=2) \\\n",
        "    .map(plt.hist, 'Item_Outlet_Sales') \\\n",
        "    .add_legend();\n",
        "#Maximum of the high sales margin is from Supermarket Type1\n",
        "#Grocery store has the least sales"
      ],
      "execution_count": null,
      "outputs": [
        {
          "output_type": "display_data",
          "data": {
            "image/png": "[encoded data removed]",
            "text/plain": [
              "<Figure size 440.8x432 with 4 Axes>"
            ]
          },
          "metadata": {
            "tags": []
          }
        }
      ]
    },
    {
      "cell_type": "code",
      "metadata": {
        "id": "frPHFAKDDOOE",
        "colab_type": "code",
        "colab": {
          "base_uri": "https://localhost:8080/",
          "height": 224
        },
        "outputId": "19e550b4-eccc-450b-fd33-07ba3fdcc731"
      },
      "source": [
        "#Label Encoding all the columns with text entries and dropping Item_identifier  \n",
        "le=LabelEncoder()\n",
        "list=['Item_Fat_Content','Outlet_Location_Type','Outlet_Size','Outlet_Type','Item_Type_combined',\n",
        "      'Outlet_Size']\n",
        "for i in list:\n",
        "    le.fit(df[i])\n",
        "    df[i]=le.transform(df[i])\n",
        "df_new=df.drop(columns='Item_Identifier')\n",
        "df_new= pd.get_dummies(df_new,columns=['Outlet_Identifier'])\n",
        "df_new.head()"
      ],
      "execution_count": null,
      "outputs": [
        {
          "output_type": "execute_result",
          "data": {
            "text/html": [
              "<div>\n",
              "<style scoped>\n",
              "    .dataframe tbody tr th:only-of-type {\n",
              "        vertical-align: middle;\n",
              "    }\n",
              "\n",
              "    .dataframe tbody tr th {\n",
              "        vertical-align: top;\n",
              "    }\n",
              "\n",
              "    .dataframe thead th {\n",
              "        text-align: right;\n",
              "    }\n",
              "</style>\n",
              "<table border=\"1\" class=\"dataframe\">\n",
              "  <thead>\n",
              "    <tr style=\"text-align: right;\">\n",
              "      <th></th>\n",
              "      <th>Item_Weight</th>\n",
              "      <th>Item_Fat_Content</th>\n",
              "      <th>Item_Visibility</th>\n",
              "      <th>Item_MRP</th>\n",
              "      <th>Outlet_Size</th>\n",
              "      <th>Outlet_Location_Type</th>\n",
              "      <th>Outlet_Type</th>\n",
              "      <th>Item_Outlet_Sales</th>\n",
              "      <th>Item_Type_combined</th>\n",
              "      <th>yearsold</th>\n",
              "      <th>Outlet_Identifier_OUT010</th>\n",
              "      <th>Outlet_Identifier_OUT013</th>\n",
              "      <th>Outlet_Identifier_OUT017</th>\n",
              "      <th>Outlet_Identifier_OUT018</th>\n",
              "      <th>Outlet_Identifier_OUT019</th>\n",
              "      <th>Outlet_Identifier_OUT027</th>\n",
              "      <th>Outlet_Identifier_OUT035</th>\n",
              "      <th>Outlet_Identifier_OUT045</th>\n",
              "      <th>Outlet_Identifier_OUT046</th>\n",
              "      <th>Outlet_Identifier_OUT049</th>\n",
              "    </tr>\n",
              "  </thead>\n",
              "  <tbody>\n",
              "    <tr>\n",
              "      <th>0</th>\n",
              "      <td>9.30</td>\n",
              "      <td>0</td>\n",
              "      <td>0.016047</td>\n",
              "      <td>249.8092</td>\n",
              "      <td>1</td>\n",
              "      <td>0</td>\n",
              "      <td>1</td>\n",
              "      <td>3735.1380</td>\n",
              "      <td>1</td>\n",
              "      <td>14</td>\n",
              "      <td>0</td>\n",
              "      <td>0</td>\n",
              "      <td>0</td>\n",
              "      <td>0</td>\n",
              "      <td>0</td>\n",
              "      <td>0</td>\n",
              "      <td>0</td>\n",
              "      <td>0</td>\n",
              "      <td>0</td>\n",
              "      <td>1</td>\n",
              "    </tr>\n",
              "    <tr>\n",
              "      <th>1</th>\n",
              "      <td>5.92</td>\n",
              "      <td>2</td>\n",
              "      <td>0.019278</td>\n",
              "      <td>48.2692</td>\n",
              "      <td>1</td>\n",
              "      <td>2</td>\n",
              "      <td>2</td>\n",
              "      <td>443.4228</td>\n",
              "      <td>0</td>\n",
              "      <td>4</td>\n",
              "      <td>0</td>\n",
              "      <td>0</td>\n",
              "      <td>0</td>\n",
              "      <td>1</td>\n",
              "      <td>0</td>\n",
              "      <td>0</td>\n",
              "      <td>0</td>\n",
              "      <td>0</td>\n",
              "      <td>0</td>\n",
              "      <td>0</td>\n",
              "    </tr>\n",
              "    <tr>\n",
              "      <th>2</th>\n",
              "      <td>17.50</td>\n",
              "      <td>0</td>\n",
              "      <td>0.016760</td>\n",
              "      <td>141.6180</td>\n",
              "      <td>1</td>\n",
              "      <td>0</td>\n",
              "      <td>1</td>\n",
              "      <td>2097.2700</td>\n",
              "      <td>1</td>\n",
              "      <td>14</td>\n",
              "      <td>0</td>\n",
              "      <td>0</td>\n",
              "      <td>0</td>\n",
              "      <td>0</td>\n",
              "      <td>0</td>\n",
              "      <td>0</td>\n",
              "      <td>0</td>\n",
              "      <td>0</td>\n",
              "      <td>0</td>\n",
              "      <td>1</td>\n",
              "    </tr>\n",
              "    <tr>\n",
              "      <th>3</th>\n",
              "      <td>19.20</td>\n",
              "      <td>2</td>\n",
              "      <td>0.022930</td>\n",
              "      <td>182.0950</td>\n",
              "      <td>2</td>\n",
              "      <td>2</td>\n",
              "      <td>0</td>\n",
              "      <td>732.3800</td>\n",
              "      <td>1</td>\n",
              "      <td>15</td>\n",
              "      <td>1</td>\n",
              "      <td>0</td>\n",
              "      <td>0</td>\n",
              "      <td>0</td>\n",
              "      <td>0</td>\n",
              "      <td>0</td>\n",
              "      <td>0</td>\n",
              "      <td>0</td>\n",
              "      <td>0</td>\n",
              "      <td>0</td>\n",
              "    </tr>\n",
              "    <tr>\n",
              "      <th>4</th>\n",
              "      <td>8.93</td>\n",
              "      <td>1</td>\n",
              "      <td>0.014670</td>\n",
              "      <td>53.8614</td>\n",
              "      <td>0</td>\n",
              "      <td>2</td>\n",
              "      <td>1</td>\n",
              "      <td>994.7052</td>\n",
              "      <td>2</td>\n",
              "      <td>26</td>\n",
              "      <td>0</td>\n",
              "      <td>1</td>\n",
              "      <td>0</td>\n",
              "      <td>0</td>\n",
              "      <td>0</td>\n",
              "      <td>0</td>\n",
              "      <td>0</td>\n",
              "      <td>0</td>\n",
              "      <td>0</td>\n",
              "      <td>0</td>\n",
              "    </tr>\n",
              "  </tbody>\n",
              "</table>\n",
              "</div>"
            ],
            "text/plain": [
              "   Item_Weight  ...  Outlet_Identifier_OUT049\n",
              "0         9.30  ...                         1\n",
              "1         5.92  ...                         0\n",
              "2        17.50  ...                         1\n",
              "3        19.20  ...                         0\n",
              "4         8.93  ...                         0\n",
              "\n",
              "[5 rows x 20 columns]"
            ]
          },
          "metadata": {
            "tags": []
          },
          "execution_count": 117
        }
      ]
    },
    {
      "cell_type": "code",
      "metadata": {
        "id": "YDe4b0GEDOOM",
        "colab_type": "code",
        "colab": {}
      },
      "source": [
        "#Separating test and train set\n",
        "df_new_train=df_new.iloc[:8523,:]\n",
        "df_new_test=df_new.iloc[8523:,:]\n",
        "df_new_test=df_new_test.drop(columns=['Item_Outlet_Sales'])"
      ],
      "execution_count": null,
      "outputs": []
    },
    {
      "cell_type": "code",
      "metadata": {
        "id": "KwQkmvX5DOOU",
        "colab_type": "code",
        "colab": {}
      },
      "source": [
        "Y_train=df_new_train['Item_Outlet_Sales']\n",
        "df_train_test=df_new_train.drop(columns=['Item_Outlet_Sales'])"
      ],
      "execution_count": null,
      "outputs": []
    },
    {
      "cell_type": "code",
      "metadata": {
        "id": "n4i0aKzzDOOc",
        "colab_type": "code",
        "colab": {}
      },
      "source": [
        "from sklearn.linear_model import LinearRegression\n",
        "#Ridge regression or Tikhonov regularization is the regularization technique that performs L2 regularization. It modifies the loss function by adding the penalty (shrinkage quantity) equivalent to the square of the magnitude of coefficients.\n",
        "from sklearn.linear_model import Ridge\n",
        "#A random forest is a meta estimator that fits a number of classifying decision trees on various sub-samples of the dataset and use averaging to improve the predictive accuracy and control over-fitting\n",
        "from sklearn.ensemble import RandomForestRegressor \n",
        "#This class implements a meta estimator that fits a number of randomized decision trees (a.k.a. extra-trees) on various sub-samples of the dataset and uses averaging to improve the predictive accuracy and control over-fitting.\n",
        "from sklearn.ensemble import ExtraTreesRegressor\n",
        "\n",
        "from sklearn.ensemble import BaggingRegressor\n",
        "\n",
        "from sklearn.ensemble import GradientBoostingRegressor\n",
        "\n",
        "from sklearn.linear_model import ElasticNet \n",
        "from sklearn.neural_network import MLPRegressor\n",
        "from sklearn.model_selection import KFold, cross_val_score\n",
        "from xgboost import XGBRegressor\n",
        "import xgboost as xgb\n"
      ],
      "execution_count": null,
      "outputs": []
    },
    {
      "cell_type": "code",
      "metadata": {
        "id": "lNGpypf0DOOn",
        "colab_type": "code",
        "colab": {}
      },
      "source": [
        "models = [('lr',LinearRegression()),('ridge',Ridge()),('rfr',RandomForestRegressor()),('etr',ExtraTreesRegressor()),\n",
        "         ('br',BaggingRegressor()),('gbr',GradientBoostingRegressor()),('en',ElasticNet()),('mlp',MLPRegressor())]"
      ],
      "execution_count": null,
      "outputs": []
    },
    {
      "cell_type": "code",
      "metadata": {
        "id": "ma0KTIh8DOOv",
        "colab_type": "code",
        "colab": {}
      },
      "source": [
        "#Making function for making best 2 models for further hyperparameter tuning\n",
        "def basic_model_selection(x,y,cross_folds,model):\n",
        "    scores=[]\n",
        "    names = []\n",
        "    for i , j in model:\n",
        "        cv_scores = cross_val_score(j, x, y, cv=cross_folds,n_jobs=5)\n",
        "        scores.append(cv_scores)\n",
        "        names.append(i)\n",
        "    for k in range(len(scores)):\n",
        "        print(names[k],scores[k].mean())"
      ],
      "execution_count": null,
      "outputs": []
    },
    {
      "cell_type": "code",
      "metadata": {
        "id": "QCIlp_2MDOO4",
        "colab_type": "code",
        "colab": {
          "base_uri": "https://localhost:8080/",
          "height": 153
        },
        "outputId": "ddf7d1a4-d90d-4da5-8c1e-8fc657cd1faf"
      },
      "source": [
        "basic_model_selection(df_train_test,Y_train,4,models)"
      ],
      "execution_count": null,
      "outputs": [
        {
          "output_type": "stream",
          "text": [
            "lr 0.5600132022388752\n",
            "ridge 0.5600170353227616\n",
            "rfr 0.553978880657287\n",
            "etr 0.5231357829052387\n",
            "br 0.523113398461093\n",
            "gbr 0.5925840909219284\n",
            "en 0.47782793794520356\n",
            "mlp 0.5701189493601961\n"
          ],
          "name": "stdout"
        }
      ]
    },
    {
      "cell_type": "code",
      "metadata": {
        "id": "QvrIl6iJDOPB",
        "colab_type": "code",
        "colab": {
          "base_uri": "https://localhost:8080/",
          "height": 34
        },
        "outputId": "cdc0cb47-3abe-47ed-9445-bacc39780385"
      },
      "source": [
        "#Average score for XGBoost matrix\n",
        "# define data_dmatrix\n",
        "data_dmatrix = xgb.DMatrix(data=df_train_test,label=Y_train)\n",
        "# import XGBRegressor\n",
        "xgb1 = XGBRegressor()\n",
        "cv_score = cross_val_score(xgb1, df_train_test, Y_train, cv=4,n_jobs=5)\n",
        "print(cv_score.mean())"
      ],
      "execution_count": null,
      "outputs": [
        {
          "output_type": "stream",
          "text": [
            "0.595114991594813\n"
          ],
          "name": "stdout"
        }
      ]
    },
    {
      "cell_type": "markdown",
      "metadata": {
        "id": "NnhP0e5MDOPK",
        "colab_type": "text"
      },
      "source": [
        "# Gradient Boost Regression and XGBoost Regression will be used for further hyperparameter tuning"
      ]
    },
    {
      "cell_type": "code",
      "metadata": {
        "id": "D_JqIJtMDOPM",
        "colab_type": "code",
        "colab": {}
      },
      "source": [
        "def model_parameter_tuning(x,y,model,parameters,cross_folds):\n",
        "    model_grid = GridSearchCV(model,\n",
        "                        parameters,\n",
        "                        cv = cross_folds,\n",
        "                        n_jobs = 5,\n",
        "                        verbose=True)\n",
        "    model_grid.fit(x,y)\n",
        "    y_predicted = model_grid.predict(x)\n",
        "    print(model_grid.score)\n",
        "    print(model_grid.best_params_)\n",
        "    print(\"The RMSE score is\",np.sqrt(np.mean((y-y_predicted)**2)))\n",
        "\n",
        "#defining function for hyper parameter tuning and using RMSE as my metric\n",
        "    "
      ],
      "execution_count": null,
      "outputs": []
    },
    {
      "cell_type": "code",
      "metadata": {
        "id": "MRL3vfeoDOPU",
        "colab_type": "code",
        "colab": {}
      },
      "source": [
        "parameters_xgb = {'nthread':[3,4], \n",
        "              'learning_rate':[0.02,0.03], #so called `eta` value\n",
        "              'max_depth': [3,2,4],\n",
        "              'min_child_weight':[3,4,5],\n",
        "              'silent': [1],\n",
        "              'subsample': [0.5],\n",
        "              'colsample_bytree': [0.7],\n",
        "              'n_estimators': [300,320]\n",
        "             }\n",
        "parameters_gbr={'loss':['ls','lad'],\n",
        "               'learning_rate':[0.3],\n",
        "               'n_estimators':[300],\n",
        "               'min_samples_split':[3,4],\n",
        "               'max_depth':[3,4],\n",
        "               'min_samples_leaf':[3,4,2],\n",
        "               'max_features':['auto','log2','sqrt']\n",
        "              }\n",
        "\n",
        "# Defining the useful parameters for parameter tuning\n",
        "# to get the optimum output"
      ],
      "execution_count": null,
      "outputs": []
    },
    {
      "cell_type": "code",
      "metadata": {
        "id": "wemdu7XODOPd",
        "colab_type": "code",
        "colab": {
          "base_uri": "https://localhost:8080/",
          "height": 496
        },
        "outputId": "f5851ff2-9b2e-426f-cd4f-702ecda48218"
      },
      "source": [
        "model_parameter_tuning(df_train_test,Y_train,xgb1,parameters_xgb,4)"
      ],
      "execution_count": null,
      "outputs": [
        {
          "output_type": "stream",
          "text": [
            "Fitting 4 folds for each of 72 candidates, totalling 288 fits\n"
          ],
          "name": "stdout"
        },
        {
          "output_type": "stream",
          "text": [
            "[Parallel(n_jobs=5)]: Using backend LokyBackend with 5 concurrent workers.\n",
            "[Parallel(n_jobs=5)]: Done  40 tasks      | elapsed:   51.1s\n",
            "[Parallel(n_jobs=5)]: Done 190 tasks      | elapsed:  3.9min\n",
            "[Parallel(n_jobs=5)]: Done 288 out of 288 | elapsed:  5.9min finished\n"
          ],
          "name": "stderr"
        },
        {
          "output_type": "stream",
          "text": [
            "<bound method BaseSearchCV.score of GridSearchCV(cv=4, error_score=nan,\n",
            "             estimator=XGBRegressor(base_score=0.5, booster='gbtree',\n",
            "                                    colsample_bylevel=1, colsample_bynode=1,\n",
            "                                    colsample_bytree=1, gamma=0,\n",
            "                                    importance_type='gain', learning_rate=0.1,\n",
            "                                    max_delta_step=0, max_depth=3,\n",
            "                                    min_child_weight=1, missing=None,\n",
            "                                    n_estimators=100, n_jobs=1, nthread=None,\n",
            "                                    objective='reg:linear', random_state=0,\n",
            "                                    reg_alpha=0, reg_...\n",
            "                                    scale_pos_weight=1, seed=None, silent=None,\n",
            "                                    subsample=1, verbosity=1),\n",
            "             iid='deprecated', n_jobs=5,\n",
            "             param_grid={'colsample_bytree': [0.7],\n",
            "                         'learning_rate': [0.02, 0.03], 'max_depth': [3, 2, 4],\n",
            "                         'min_child_weight': [3, 4, 5],\n",
            "                         'n_estimators': [300, 320], 'nthread': [3, 4],\n",
            "                         'silent': [1], 'subsample': [0.5]},\n",
            "             pre_dispatch='2*n_jobs', refit=True, return_train_score=False,\n",
            "             scoring=None, verbose=True)>\n",
            "{'colsample_bytree': 0.7, 'learning_rate': 0.02, 'max_depth': 3, 'min_child_weight': 5, 'n_estimators': 300, 'nthread': 3, 'silent': 1, 'subsample': 0.5}\n",
            "The RMSE score is 1055.9051391116768\n"
          ],
          "name": "stdout"
        }
      ]
    },
    {
      "cell_type": "code",
      "metadata": {
        "id": "wifiBwMsDOPm",
        "colab_type": "code",
        "colab": {
          "base_uri": "https://localhost:8080/",
          "height": 581
        },
        "outputId": "23389a63-3c50-43ff-a876-9166efd62c25"
      },
      "source": [
        "gbr=GradientBoostingRegressor()\n",
        "model_parameter_tuning(df_train_test,Y_train,gbr,parameters_gbr,4)"
      ],
      "execution_count": null,
      "outputs": [
        {
          "output_type": "stream",
          "text": [
            "Fitting 4 folds for each of 72 candidates, totalling 288 fits\n"
          ],
          "name": "stdout"
        },
        {
          "output_type": "stream",
          "text": [
            "[Parallel(n_jobs=5)]: Using backend LokyBackend with 5 concurrent workers.\n",
            "[Parallel(n_jobs=5)]: Done  40 tasks      | elapsed:   59.6s\n",
            "[Parallel(n_jobs=5)]: Done 190 tasks      | elapsed:  4.3min\n",
            "[Parallel(n_jobs=5)]: Done 288 out of 288 | elapsed:  7.0min finished\n"
          ],
          "name": "stderr"
        },
        {
          "output_type": "stream",
          "text": [
            "<bound method BaseSearchCV.score of GridSearchCV(cv=4, error_score=nan,\n",
            "             estimator=GradientBoostingRegressor(alpha=0.9, ccp_alpha=0.0,\n",
            "                                                 criterion='friedman_mse',\n",
            "                                                 init=None, learning_rate=0.1,\n",
            "                                                 loss='ls', max_depth=3,\n",
            "                                                 max_features=None,\n",
            "                                                 max_leaf_nodes=None,\n",
            "                                                 min_impurity_decrease=0.0,\n",
            "                                                 min_impurity_split=None,\n",
            "                                                 min_samples_leaf=1,\n",
            "                                                 min_samples_split=2,\n",
            "                                                 min_weight_fraction_leaf=0.0,\n",
            "                                                 n_estimators=100,\n",
            "                                                 n_iter_n...\n",
            "                                                 subsample=1.0, tol=0.0001,\n",
            "                                                 validation_fraction=0.1,\n",
            "                                                 verbose=0, warm_start=False),\n",
            "             iid='deprecated', n_jobs=5,\n",
            "             param_grid={'learning_rate': [0.3], 'loss': ['ls', 'lad'],\n",
            "                         'max_depth': [3, 4],\n",
            "                         'max_features': ['auto', 'log2', 'sqrt'],\n",
            "                         'min_samples_leaf': [3, 4, 2],\n",
            "                         'min_samples_split': [3, 4], 'n_estimators': [300]},\n",
            "             pre_dispatch='2*n_jobs', refit=True, return_train_score=False,\n",
            "             scoring=None, verbose=True)>\n",
            "{'learning_rate': 0.3, 'loss': 'lad', 'max_depth': 3, 'max_features': 'auto', 'min_samples_leaf': 2, 'min_samples_split': 3, 'n_estimators': 300}\n",
            "The RMSE score is 1051.0805884990505\n"
          ],
          "name": "stdout"
        }
      ]
    },
    {
      "cell_type": "code",
      "metadata": {
        "id": "K5LdGWcKDOPy",
        "colab_type": "code",
        "colab": {}
      },
      "source": [
        "from sklearn.neural_network import MLPRegressor\n",
        "mlp=MLPRegressor()\n",
        "parameters_mlp = {'hidden_layer_sizes':[300,400,500],\n",
        "              'activation':['relu','tanh'],\n",
        "              'learning_rate':['adaptive'],\n",
        "              'learning_rate_init':[0.001,0.004],\n",
        "              'solver':['adam'],\n",
        "              'max_iter':[200,300]\n",
        "             }"
      ],
      "execution_count": null,
      "outputs": []
    },
    {
      "cell_type": "code",
      "metadata": {
        "id": "F_HauRmcDOP5",
        "colab_type": "code",
        "colab": {
          "base_uri": "https://localhost:8080/",
          "height": 513
        },
        "outputId": "57df8e68-76ae-4602-89b0-e7a7b0498a97"
      },
      "source": [
        "model_parameter_tuning(df_train_test,Y_train,mlp,parameters_mlp,4)"
      ],
      "execution_count": null,
      "outputs": [
        {
          "output_type": "stream",
          "text": [
            "Fitting 4 folds for each of 24 candidates, totalling 96 fits\n"
          ],
          "name": "stdout"
        },
        {
          "output_type": "stream",
          "text": [
            "[Parallel(n_jobs=5)]: Using backend LokyBackend with 5 concurrent workers.\n",
            "[Parallel(n_jobs=5)]: Done  40 tasks      | elapsed:  7.1min\n",
            "[Parallel(n_jobs=5)]: Done  96 out of  96 | elapsed: 28.6min finished\n"
          ],
          "name": "stderr"
        },
        {
          "output_type": "stream",
          "text": [
            "<bound method BaseSearchCV.score of GridSearchCV(cv=4, error_score=nan,\n",
            "             estimator=MLPRegressor(activation='relu', alpha=0.0001,\n",
            "                                    batch_size='auto', beta_1=0.9, beta_2=0.999,\n",
            "                                    early_stopping=False, epsilon=1e-08,\n",
            "                                    hidden_layer_sizes=(100,),\n",
            "                                    learning_rate='constant',\n",
            "                                    learning_rate_init=0.001, max_fun=15000,\n",
            "                                    max_iter=200, momentum=0.9,\n",
            "                                    n_iter_no_change=10,\n",
            "                                    nesterovs_momentum=True, power_t=0.5,\n",
            "                                    random_state=...\n",
            "                                    solver='adam', tol=0.0001,\n",
            "                                    validation_fraction=0.1, verbose=False,\n",
            "                                    warm_start=False),\n",
            "             iid='deprecated', n_jobs=5,\n",
            "             param_grid={'activation': ['relu', 'tanh'],\n",
            "                         'hidden_layer_sizes': [300, 400, 500],\n",
            "                         'learning_rate': ['adaptive'],\n",
            "                         'learning_rate_init': [0.001, 0.004],\n",
            "                         'max_iter': [200, 300], 'solver': ['adam']},\n",
            "             pre_dispatch='2*n_jobs', refit=True, return_train_score=False,\n",
            "             scoring=None, verbose=True)>\n",
            "{'activation': 'relu', 'hidden_layer_sizes': 400, 'learning_rate': 'adaptive', 'learning_rate_init': 0.004, 'max_iter': 300, 'solver': 'adam'}\n",
            "The RMSE score is 1086.8120409615192\n"
          ],
          "name": "stdout"
        }
      ]
    },
    {
      "cell_type": "markdown",
      "metadata": {
        "id": "eB7upgBkDOQD",
        "colab_type": "text"
      },
      "source": [
        "# Standardization of the model before training"
      ]
    },
    {
      "cell_type": "code",
      "metadata": {
        "id": "GSXSlD0iDOQM",
        "colab_type": "code",
        "colab": {
          "base_uri": "https://localhost:8080/",
          "height": 224
        },
        "outputId": "b983ebb3-b985-44f5-9bd1-53c40f7bb191"
      },
      "source": [
        "from sklearn.preprocessing import StandardScaler\n",
        "scaler = StandardScaler()\n",
        "standardized=scaler.fit_transform(df_train_test)\n",
        "column_names = df_train_test.columns\n",
        "df_standardized = pd.DataFrame(data=standardized,columns=column_names)\n",
        "df_standardized.head()"
      ],
      "execution_count": null,
      "outputs": [
        {
          "output_type": "execute_result",
          "data": {
            "text/html": [
              "<div>\n",
              "<style scoped>\n",
              "    .dataframe tbody tr th:only-of-type {\n",
              "        vertical-align: middle;\n",
              "    }\n",
              "\n",
              "    .dataframe tbody tr th {\n",
              "        vertical-align: top;\n",
              "    }\n",
              "\n",
              "    .dataframe thead th {\n",
              "        text-align: right;\n",
              "    }\n",
              "</style>\n",
              "<table border=\"1\" class=\"dataframe\">\n",
              "  <thead>\n",
              "    <tr style=\"text-align: right;\">\n",
              "      <th></th>\n",
              "      <th>Item_Weight</th>\n",
              "      <th>Item_Fat_Content</th>\n",
              "      <th>Item_Visibility</th>\n",
              "      <th>Item_MRP</th>\n",
              "      <th>Outlet_Size</th>\n",
              "      <th>Outlet_Location_Type</th>\n",
              "      <th>Outlet_Type</th>\n",
              "      <th>Item_Type_combined</th>\n",
              "      <th>yearsold</th>\n",
              "      <th>Outlet_Identifier_OUT010</th>\n",
              "      <th>Outlet_Identifier_OUT013</th>\n",
              "      <th>Outlet_Identifier_OUT017</th>\n",
              "      <th>Outlet_Identifier_OUT018</th>\n",
              "      <th>Outlet_Identifier_OUT019</th>\n",
              "      <th>Outlet_Identifier_OUT027</th>\n",
              "      <th>Outlet_Identifier_OUT035</th>\n",
              "      <th>Outlet_Identifier_OUT045</th>\n",
              "      <th>Outlet_Identifier_OUT046</th>\n",
              "      <th>Outlet_Identifier_OUT049</th>\n",
              "    </tr>\n",
              "  </thead>\n",
              "  <tbody>\n",
              "    <tr>\n",
              "      <th>0</th>\n",
              "      <td>-0.769246</td>\n",
              "      <td>-0.997813</td>\n",
              "      <td>-1.088101</td>\n",
              "      <td>1.747454</td>\n",
              "      <td>-0.664080</td>\n",
              "      <td>-1.369334</td>\n",
              "      <td>-0.252658</td>\n",
              "      <td>-0.179795</td>\n",
              "      <td>-0.139541</td>\n",
              "      <td>-0.263920</td>\n",
              "      <td>-0.350395</td>\n",
              "      <td>-0.349128</td>\n",
              "      <td>-0.349551</td>\n",
              "      <td>-0.256985</td>\n",
              "      <td>-0.351028</td>\n",
              "      <td>-0.349973</td>\n",
              "      <td>-0.349762</td>\n",
              "      <td>-0.349973</td>\n",
              "      <td>2.857362</td>\n",
              "    </tr>\n",
              "    <tr>\n",
              "      <th>1</th>\n",
              "      <td>-1.496813</td>\n",
              "      <td>1.236942</td>\n",
              "      <td>-1.023789</td>\n",
              "      <td>-1.489023</td>\n",
              "      <td>-0.664080</td>\n",
              "      <td>1.091569</td>\n",
              "      <td>1.002972</td>\n",
              "      <td>-2.095286</td>\n",
              "      <td>-1.334103</td>\n",
              "      <td>-0.263920</td>\n",
              "      <td>-0.350395</td>\n",
              "      <td>-0.349128</td>\n",
              "      <td>2.860816</td>\n",
              "      <td>-0.256985</td>\n",
              "      <td>-0.351028</td>\n",
              "      <td>-0.349973</td>\n",
              "      <td>-0.349762</td>\n",
              "      <td>-0.349973</td>\n",
              "      <td>-0.349973</td>\n",
              "    </tr>\n",
              "    <tr>\n",
              "      <th>2</th>\n",
              "      <td>0.995858</td>\n",
              "      <td>-0.997813</td>\n",
              "      <td>-1.073913</td>\n",
              "      <td>0.010040</td>\n",
              "      <td>-0.664080</td>\n",
              "      <td>-1.369334</td>\n",
              "      <td>-0.252658</td>\n",
              "      <td>-0.179795</td>\n",
              "      <td>-0.139541</td>\n",
              "      <td>-0.263920</td>\n",
              "      <td>-0.350395</td>\n",
              "      <td>-0.349128</td>\n",
              "      <td>-0.349551</td>\n",
              "      <td>-0.256985</td>\n",
              "      <td>-0.351028</td>\n",
              "      <td>-0.349973</td>\n",
              "      <td>-0.349762</td>\n",
              "      <td>-0.349973</td>\n",
              "      <td>2.857362</td>\n",
              "    </tr>\n",
              "    <tr>\n",
              "      <th>3</th>\n",
              "      <td>1.361794</td>\n",
              "      <td>1.236942</td>\n",
              "      <td>-0.951101</td>\n",
              "      <td>0.660050</td>\n",
              "      <td>0.799954</td>\n",
              "      <td>1.091569</td>\n",
              "      <td>-1.508289</td>\n",
              "      <td>-0.179795</td>\n",
              "      <td>-0.020085</td>\n",
              "      <td>3.789031</td>\n",
              "      <td>-0.350395</td>\n",
              "      <td>-0.349128</td>\n",
              "      <td>-0.349551</td>\n",
              "      <td>-0.256985</td>\n",
              "      <td>-0.351028</td>\n",
              "      <td>-0.349973</td>\n",
              "      <td>-0.349762</td>\n",
              "      <td>-0.349973</td>\n",
              "      <td>-0.349973</td>\n",
              "    </tr>\n",
              "    <tr>\n",
              "      <th>4</th>\n",
              "      <td>-0.848890</td>\n",
              "      <td>0.119565</td>\n",
              "      <td>-1.115522</td>\n",
              "      <td>-1.399220</td>\n",
              "      <td>-2.128115</td>\n",
              "      <td>1.091569</td>\n",
              "      <td>-0.252658</td>\n",
              "      <td>1.735696</td>\n",
              "      <td>1.293934</td>\n",
              "      <td>-0.263920</td>\n",
              "      <td>2.853918</td>\n",
              "      <td>-0.349128</td>\n",
              "      <td>-0.349551</td>\n",
              "      <td>-0.256985</td>\n",
              "      <td>-0.351028</td>\n",
              "      <td>-0.349973</td>\n",
              "      <td>-0.349762</td>\n",
              "      <td>-0.349973</td>\n",
              "      <td>-0.349973</td>\n",
              "    </tr>\n",
              "  </tbody>\n",
              "</table>\n",
              "</div>"
            ],
            "text/plain": [
              "   Item_Weight  ...  Outlet_Identifier_OUT049\n",
              "0    -0.769246  ...                  2.857362\n",
              "1    -1.496813  ...                 -0.349973\n",
              "2     0.995858  ...                  2.857362\n",
              "3     1.361794  ...                 -0.349973\n",
              "4    -0.848890  ...                 -0.349973\n",
              "\n",
              "[5 rows x 19 columns]"
            ]
          },
          "metadata": {
            "tags": []
          },
          "execution_count": 142
        }
      ]
    },
    {
      "cell_type": "code",
      "metadata": {
        "id": "Dp5-_k_cDOQV",
        "colab_type": "code",
        "colab": {
          "base_uri": "https://localhost:8080/",
          "height": 153
        },
        "outputId": "ba159b97-9852-4eda-f313-8861fd94f6a1"
      },
      "source": [
        "basic_model_selection(df_standardized,Y_train,4,models)"
      ],
      "execution_count": null,
      "outputs": [
        {
          "output_type": "stream",
          "text": [
            "lr 0.5600186236212362\n",
            "ridge 0.5600139286299949\n",
            "rfr 0.5522050284491135\n",
            "etr 0.5248774284369859\n",
            "br 0.518205371553722\n",
            "gbr 0.5926980383674245\n",
            "en 0.5116368076145614\n",
            "mlp 0.5948507578208453\n"
          ],
          "name": "stdout"
        }
      ]
    },
    {
      "cell_type": "code",
      "metadata": {
        "id": "1EHmlETLDOQd",
        "colab_type": "code",
        "colab": {
          "base_uri": "https://localhost:8080/",
          "height": 34
        },
        "outputId": "1507b23f-614e-480e-9375-4296ab6c24bf"
      },
      "source": [
        "#Average score for XGBoost matrix\n",
        "# define data_dmatrix\n",
        "data_dmatrix = xgb.DMatrix(data=df_standardized,label=Y_train)\n",
        "# import XGBRegressor\n",
        "xgb1 = XGBRegressor()\n",
        "cv_score = cross_val_score(xgb1, df_standardized, Y_train, cv=4,n_jobs=5)\n",
        "print(cv_score.mean())"
      ],
      "execution_count": null,
      "outputs": [
        {
          "output_type": "stream",
          "text": [
            "0.5951011226638807\n"
          ],
          "name": "stdout"
        }
      ]
    },
    {
      "cell_type": "markdown",
      "metadata": {
        "id": "mftCR2o7DOQn",
        "colab_type": "text"
      },
      "source": [
        "# The Models for hyperparameter tuning are same XGBoost and GradientBoostingRegression"
      ]
    },
    {
      "cell_type": "code",
      "metadata": {
        "id": "C2qF-mUgDOQo",
        "colab_type": "code",
        "colab": {
          "base_uri": "https://localhost:8080/",
          "height": 496
        },
        "outputId": "2f31d354-8488-44fe-8aee-c6a14ecf8424"
      },
      "source": [
        "model_parameter_tuning(df_standardized,Y_train,xgb1,parameters_xgb,4)"
      ],
      "execution_count": null,
      "outputs": [
        {
          "output_type": "stream",
          "text": [
            "Fitting 4 folds for each of 72 candidates, totalling 288 fits\n"
          ],
          "name": "stdout"
        },
        {
          "output_type": "stream",
          "text": [
            "[Parallel(n_jobs=5)]: Using backend LokyBackend with 5 concurrent workers.\n",
            "[Parallel(n_jobs=5)]: Done  40 tasks      | elapsed:   50.6s\n",
            "[Parallel(n_jobs=5)]: Done 190 tasks      | elapsed:  3.9min\n",
            "[Parallel(n_jobs=5)]: Done 288 out of 288 | elapsed:  5.9min finished\n"
          ],
          "name": "stderr"
        },
        {
          "output_type": "stream",
          "text": [
            "<bound method BaseSearchCV.score of GridSearchCV(cv=4, error_score=nan,\n",
            "             estimator=XGBRegressor(base_score=0.5, booster='gbtree',\n",
            "                                    colsample_bylevel=1, colsample_bynode=1,\n",
            "                                    colsample_bytree=1, gamma=0,\n",
            "                                    importance_type='gain', learning_rate=0.1,\n",
            "                                    max_delta_step=0, max_depth=3,\n",
            "                                    min_child_weight=1, missing=None,\n",
            "                                    n_estimators=100, n_jobs=1, nthread=None,\n",
            "                                    objective='reg:linear', random_state=0,\n",
            "                                    reg_alpha=0, reg_...\n",
            "                                    scale_pos_weight=1, seed=None, silent=None,\n",
            "                                    subsample=1, verbosity=1),\n",
            "             iid='deprecated', n_jobs=5,\n",
            "             param_grid={'colsample_bytree': [0.7],\n",
            "                         'learning_rate': [0.02, 0.03], 'max_depth': [3, 2, 4],\n",
            "                         'min_child_weight': [3, 4, 5],\n",
            "                         'n_estimators': [300, 320], 'nthread': [3, 4],\n",
            "                         'silent': [1], 'subsample': [0.5]},\n",
            "             pre_dispatch='2*n_jobs', refit=True, return_train_score=False,\n",
            "             scoring=None, verbose=True)>\n",
            "{'colsample_bytree': 0.7, 'learning_rate': 0.02, 'max_depth': 3, 'min_child_weight': 5, 'n_estimators': 300, 'nthread': 3, 'silent': 1, 'subsample': 0.5}\n",
            "The RMSE score is 1055.9054543550258\n"
          ],
          "name": "stdout"
        }
      ]
    },
    {
      "cell_type": "code",
      "metadata": {
        "id": "RnZIvamqDOQ0",
        "colab_type": "code",
        "colab": {
          "base_uri": "https://localhost:8080/",
          "height": 581
        },
        "outputId": "4ba8317d-c311-4551-fa79-9cc72d52b84e"
      },
      "source": [
        "model_parameter_tuning(df_standardized,Y_train,gbr,parameters_gbr,4)"
      ],
      "execution_count": null,
      "outputs": [
        {
          "output_type": "stream",
          "text": [
            "Fitting 4 folds for each of 72 candidates, totalling 288 fits\n"
          ],
          "name": "stdout"
        },
        {
          "output_type": "stream",
          "text": [
            "[Parallel(n_jobs=5)]: Using backend LokyBackend with 5 concurrent workers.\n",
            "[Parallel(n_jobs=5)]: Done  40 tasks      | elapsed:   59.2s\n",
            "[Parallel(n_jobs=5)]: Done 190 tasks      | elapsed:  4.3min\n",
            "[Parallel(n_jobs=5)]: Done 288 out of 288 | elapsed:  7.0min finished\n"
          ],
          "name": "stderr"
        },
        {
          "output_type": "stream",
          "text": [
            "<bound method BaseSearchCV.score of GridSearchCV(cv=4, error_score=nan,\n",
            "             estimator=GradientBoostingRegressor(alpha=0.9, ccp_alpha=0.0,\n",
            "                                                 criterion='friedman_mse',\n",
            "                                                 init=None, learning_rate=0.1,\n",
            "                                                 loss='ls', max_depth=3,\n",
            "                                                 max_features=None,\n",
            "                                                 max_leaf_nodes=None,\n",
            "                                                 min_impurity_decrease=0.0,\n",
            "                                                 min_impurity_split=None,\n",
            "                                                 min_samples_leaf=1,\n",
            "                                                 min_samples_split=2,\n",
            "                                                 min_weight_fraction_leaf=0.0,\n",
            "                                                 n_estimators=100,\n",
            "                                                 n_iter_n...\n",
            "                                                 subsample=1.0, tol=0.0001,\n",
            "                                                 validation_fraction=0.1,\n",
            "                                                 verbose=0, warm_start=False),\n",
            "             iid='deprecated', n_jobs=5,\n",
            "             param_grid={'learning_rate': [0.3], 'loss': ['ls', 'lad'],\n",
            "                         'max_depth': [3, 4],\n",
            "                         'max_features': ['auto', 'log2', 'sqrt'],\n",
            "                         'min_samples_leaf': [3, 4, 2],\n",
            "                         'min_samples_split': [3, 4], 'n_estimators': [300]},\n",
            "             pre_dispatch='2*n_jobs', refit=True, return_train_score=False,\n",
            "             scoring=None, verbose=True)>\n",
            "{'learning_rate': 0.3, 'loss': 'lad', 'max_depth': 3, 'max_features': 'auto', 'min_samples_leaf': 2, 'min_samples_split': 4, 'n_estimators': 300}\n",
            "The RMSE score is 1050.4924335818207\n"
          ],
          "name": "stdout"
        }
      ]
    },
    {
      "cell_type": "code",
      "metadata": {
        "id": "NlrLEe6vDORB",
        "colab_type": "code",
        "colab": {
          "base_uri": "https://localhost:8080/",
          "height": 224
        },
        "outputId": "80dd7035-a0f6-495e-96fa-4d150b0f1c3f"
      },
      "source": [
        "df_train_test.head()"
      ],
      "execution_count": null,
      "outputs": [
        {
          "output_type": "execute_result",
          "data": {
            "text/html": [
              "<div>\n",
              "<style scoped>\n",
              "    .dataframe tbody tr th:only-of-type {\n",
              "        vertical-align: middle;\n",
              "    }\n",
              "\n",
              "    .dataframe tbody tr th {\n",
              "        vertical-align: top;\n",
              "    }\n",
              "\n",
              "    .dataframe thead th {\n",
              "        text-align: right;\n",
              "    }\n",
              "</style>\n",
              "<table border=\"1\" class=\"dataframe\">\n",
              "  <thead>\n",
              "    <tr style=\"text-align: right;\">\n",
              "      <th></th>\n",
              "      <th>Item_Weight</th>\n",
              "      <th>Item_Fat_Content</th>\n",
              "      <th>Item_Visibility</th>\n",
              "      <th>Item_MRP</th>\n",
              "      <th>Outlet_Size</th>\n",
              "      <th>Outlet_Location_Type</th>\n",
              "      <th>Outlet_Type</th>\n",
              "      <th>Item_Type_combined</th>\n",
              "      <th>yearsold</th>\n",
              "      <th>Outlet_Identifier_OUT010</th>\n",
              "      <th>Outlet_Identifier_OUT013</th>\n",
              "      <th>Outlet_Identifier_OUT017</th>\n",
              "      <th>Outlet_Identifier_OUT018</th>\n",
              "      <th>Outlet_Identifier_OUT019</th>\n",
              "      <th>Outlet_Identifier_OUT027</th>\n",
              "      <th>Outlet_Identifier_OUT035</th>\n",
              "      <th>Outlet_Identifier_OUT045</th>\n",
              "      <th>Outlet_Identifier_OUT046</th>\n",
              "      <th>Outlet_Identifier_OUT049</th>\n",
              "    </tr>\n",
              "  </thead>\n",
              "  <tbody>\n",
              "    <tr>\n",
              "      <th>0</th>\n",
              "      <td>9.30</td>\n",
              "      <td>0</td>\n",
              "      <td>0.016047</td>\n",
              "      <td>249.8092</td>\n",
              "      <td>1</td>\n",
              "      <td>0</td>\n",
              "      <td>1</td>\n",
              "      <td>1</td>\n",
              "      <td>14</td>\n",
              "      <td>0</td>\n",
              "      <td>0</td>\n",
              "      <td>0</td>\n",
              "      <td>0</td>\n",
              "      <td>0</td>\n",
              "      <td>0</td>\n",
              "      <td>0</td>\n",
              "      <td>0</td>\n",
              "      <td>0</td>\n",
              "      <td>1</td>\n",
              "    </tr>\n",
              "    <tr>\n",
              "      <th>1</th>\n",
              "      <td>5.92</td>\n",
              "      <td>2</td>\n",
              "      <td>0.019278</td>\n",
              "      <td>48.2692</td>\n",
              "      <td>1</td>\n",
              "      <td>2</td>\n",
              "      <td>2</td>\n",
              "      <td>0</td>\n",
              "      <td>4</td>\n",
              "      <td>0</td>\n",
              "      <td>0</td>\n",
              "      <td>0</td>\n",
              "      <td>1</td>\n",
              "      <td>0</td>\n",
              "      <td>0</td>\n",
              "      <td>0</td>\n",
              "      <td>0</td>\n",
              "      <td>0</td>\n",
              "      <td>0</td>\n",
              "    </tr>\n",
              "    <tr>\n",
              "      <th>2</th>\n",
              "      <td>17.50</td>\n",
              "      <td>0</td>\n",
              "      <td>0.016760</td>\n",
              "      <td>141.6180</td>\n",
              "      <td>1</td>\n",
              "      <td>0</td>\n",
              "      <td>1</td>\n",
              "      <td>1</td>\n",
              "      <td>14</td>\n",
              "      <td>0</td>\n",
              "      <td>0</td>\n",
              "      <td>0</td>\n",
              "      <td>0</td>\n",
              "      <td>0</td>\n",
              "      <td>0</td>\n",
              "      <td>0</td>\n",
              "      <td>0</td>\n",
              "      <td>0</td>\n",
              "      <td>1</td>\n",
              "    </tr>\n",
              "    <tr>\n",
              "      <th>3</th>\n",
              "      <td>19.20</td>\n",
              "      <td>2</td>\n",
              "      <td>0.022930</td>\n",
              "      <td>182.0950</td>\n",
              "      <td>2</td>\n",
              "      <td>2</td>\n",
              "      <td>0</td>\n",
              "      <td>1</td>\n",
              "      <td>15</td>\n",
              "      <td>1</td>\n",
              "      <td>0</td>\n",
              "      <td>0</td>\n",
              "      <td>0</td>\n",
              "      <td>0</td>\n",
              "      <td>0</td>\n",
              "      <td>0</td>\n",
              "      <td>0</td>\n",
              "      <td>0</td>\n",
              "      <td>0</td>\n",
              "    </tr>\n",
              "    <tr>\n",
              "      <th>4</th>\n",
              "      <td>8.93</td>\n",
              "      <td>1</td>\n",
              "      <td>0.014670</td>\n",
              "      <td>53.8614</td>\n",
              "      <td>0</td>\n",
              "      <td>2</td>\n",
              "      <td>1</td>\n",
              "      <td>2</td>\n",
              "      <td>26</td>\n",
              "      <td>0</td>\n",
              "      <td>1</td>\n",
              "      <td>0</td>\n",
              "      <td>0</td>\n",
              "      <td>0</td>\n",
              "      <td>0</td>\n",
              "      <td>0</td>\n",
              "      <td>0</td>\n",
              "      <td>0</td>\n",
              "      <td>0</td>\n",
              "    </tr>\n",
              "  </tbody>\n",
              "</table>\n",
              "</div>"
            ],
            "text/plain": [
              "   Item_Weight  ...  Outlet_Identifier_OUT049\n",
              "0         9.30  ...                         1\n",
              "1         5.92  ...                         0\n",
              "2        17.50  ...                         1\n",
              "3        19.20  ...                         0\n",
              "4         8.93  ...                         0\n",
              "\n",
              "[5 rows x 19 columns]"
            ]
          },
          "metadata": {
            "tags": []
          },
          "execution_count": 143
        }
      ]
    },
    {
      "cell_type": "markdown",
      "metadata": {
        "id": "WcJvi3beDORH",
        "colab_type": "text"
      },
      "source": [
        "[texte du lien](https://)# Using Robust Scaler\n",
        "\n",
        "# My dataset having outliers make it more prone to mistakes\n",
        "# Robust Scaler handles the outliers as well\n",
        "# It scales according to the quartile range"
      ]
    },
    {
      "cell_type": "code",
      "metadata": {
        "id": "F28K31XLDORJ",
        "colab_type": "code",
        "colab": {
          "base_uri": "https://localhost:8080/",
          "height": 224
        },
        "outputId": "003dc3b2-e5ab-43a0-bc63-51ce4efc3eb9"
      },
      "source": [
        "from sklearn.preprocessing import RobustScaler\n",
        "from sklearn.preprocessing import MinMaxScaler\n",
        "\n",
        "normalize = MinMaxScaler()\n",
        "robust = RobustScaler(quantile_range = (0.1,0.8)) #range of inerquartile is one of the parameters\n",
        "robust_stan = robust.fit_transform(df_train_test)\n",
        "robust_stan_normalize = normalize.fit_transform(robust_stan)\n",
        "# also normalized the dataset using MinMaxScaler i.e has bought the data set between (0,1)\n",
        "df_robust_normalize = pd.DataFrame(robust_stan_normalize,columns=column_names)\n",
        "df_robust_normalize.head()"
      ],
      "execution_count": null,
      "outputs": [
        {
          "output_type": "execute_result",
          "data": {
            "text/html": [
              "<div>\n",
              "<style scoped>\n",
              "    .dataframe tbody tr th:only-of-type {\n",
              "        vertical-align: middle;\n",
              "    }\n",
              "\n",
              "    .dataframe tbody tr th {\n",
              "        vertical-align: top;\n",
              "    }\n",
              "\n",
              "    .dataframe thead th {\n",
              "        text-align: right;\n",
              "    }\n",
              "</style>\n",
              "<table border=\"1\" class=\"dataframe\">\n",
              "  <thead>\n",
              "    <tr style=\"text-align: right;\">\n",
              "      <th></th>\n",
              "      <th>Item_Weight</th>\n",
              "      <th>Item_Fat_Content</th>\n",
              "      <th>Item_Visibility</th>\n",
              "      <th>Item_MRP</th>\n",
              "      <th>Outlet_Size</th>\n",
              "      <th>Outlet_Location_Type</th>\n",
              "      <th>Outlet_Type</th>\n",
              "      <th>Item_Type_combined</th>\n",
              "      <th>yearsold</th>\n",
              "      <th>Outlet_Identifier_OUT010</th>\n",
              "      <th>Outlet_Identifier_OUT013</th>\n",
              "      <th>Outlet_Identifier_OUT017</th>\n",
              "      <th>Outlet_Identifier_OUT018</th>\n",
              "      <th>Outlet_Identifier_OUT019</th>\n",
              "      <th>Outlet_Identifier_OUT027</th>\n",
              "      <th>Outlet_Identifier_OUT035</th>\n",
              "      <th>Outlet_Identifier_OUT045</th>\n",
              "      <th>Outlet_Identifier_OUT046</th>\n",
              "      <th>Outlet_Identifier_OUT049</th>\n",
              "    </tr>\n",
              "  </thead>\n",
              "  <tbody>\n",
              "    <tr>\n",
              "      <th>0</th>\n",
              "      <td>0.282525</td>\n",
              "      <td>0.0</td>\n",
              "      <td>0.038399</td>\n",
              "      <td>0.927507</td>\n",
              "      <td>0.5</td>\n",
              "      <td>0.0</td>\n",
              "      <td>0.333333</td>\n",
              "      <td>0.5</td>\n",
              "      <td>0.416667</td>\n",
              "      <td>0.0</td>\n",
              "      <td>0.0</td>\n",
              "      <td>0.0</td>\n",
              "      <td>0.0</td>\n",
              "      <td>0.0</td>\n",
              "      <td>0.0</td>\n",
              "      <td>0.0</td>\n",
              "      <td>0.0</td>\n",
              "      <td>0.0</td>\n",
              "      <td>1.0</td>\n",
              "    </tr>\n",
              "    <tr>\n",
              "      <th>1</th>\n",
              "      <td>0.081274</td>\n",
              "      <td>1.0</td>\n",
              "      <td>0.048346</td>\n",
              "      <td>0.072068</td>\n",
              "      <td>0.5</td>\n",
              "      <td>1.0</td>\n",
              "      <td>0.666667</td>\n",
              "      <td>0.0</td>\n",
              "      <td>0.000000</td>\n",
              "      <td>0.0</td>\n",
              "      <td>0.0</td>\n",
              "      <td>0.0</td>\n",
              "      <td>1.0</td>\n",
              "      <td>0.0</td>\n",
              "      <td>0.0</td>\n",
              "      <td>0.0</td>\n",
              "      <td>0.0</td>\n",
              "      <td>0.0</td>\n",
              "      <td>0.0</td>\n",
              "    </tr>\n",
              "    <tr>\n",
              "      <th>2</th>\n",
              "      <td>0.770765</td>\n",
              "      <td>0.0</td>\n",
              "      <td>0.040593</td>\n",
              "      <td>0.468288</td>\n",
              "      <td>0.5</td>\n",
              "      <td>0.0</td>\n",
              "      <td>0.333333</td>\n",
              "      <td>0.5</td>\n",
              "      <td>0.416667</td>\n",
              "      <td>0.0</td>\n",
              "      <td>0.0</td>\n",
              "      <td>0.0</td>\n",
              "      <td>0.0</td>\n",
              "      <td>0.0</td>\n",
              "      <td>0.0</td>\n",
              "      <td>0.0</td>\n",
              "      <td>0.0</td>\n",
              "      <td>0.0</td>\n",
              "      <td>1.0</td>\n",
              "    </tr>\n",
              "    <tr>\n",
              "      <th>3</th>\n",
              "      <td>0.871986</td>\n",
              "      <td>1.0</td>\n",
              "      <td>0.059588</td>\n",
              "      <td>0.640093</td>\n",
              "      <td>1.0</td>\n",
              "      <td>1.0</td>\n",
              "      <td>0.000000</td>\n",
              "      <td>0.5</td>\n",
              "      <td>0.458333</td>\n",
              "      <td>1.0</td>\n",
              "      <td>0.0</td>\n",
              "      <td>0.0</td>\n",
              "      <td>0.0</td>\n",
              "      <td>0.0</td>\n",
              "      <td>0.0</td>\n",
              "      <td>0.0</td>\n",
              "      <td>0.0</td>\n",
              "      <td>0.0</td>\n",
              "      <td>0.0</td>\n",
              "    </tr>\n",
              "    <tr>\n",
              "      <th>4</th>\n",
              "      <td>0.260494</td>\n",
              "      <td>0.5</td>\n",
              "      <td>0.034158</td>\n",
              "      <td>0.095805</td>\n",
              "      <td>0.0</td>\n",
              "      <td>1.0</td>\n",
              "      <td>0.333333</td>\n",
              "      <td>1.0</td>\n",
              "      <td>0.916667</td>\n",
              "      <td>0.0</td>\n",
              "      <td>1.0</td>\n",
              "      <td>0.0</td>\n",
              "      <td>0.0</td>\n",
              "      <td>0.0</td>\n",
              "      <td>0.0</td>\n",
              "      <td>0.0</td>\n",
              "      <td>0.0</td>\n",
              "      <td>0.0</td>\n",
              "      <td>0.0</td>\n",
              "    </tr>\n",
              "  </tbody>\n",
              "</table>\n",
              "</div>"
            ],
            "text/plain": [
              "   Item_Weight  ...  Outlet_Identifier_OUT049\n",
              "0     0.282525  ...                       1.0\n",
              "1     0.081274  ...                       0.0\n",
              "2     0.770765  ...                       1.0\n",
              "3     0.871986  ...                       0.0\n",
              "4     0.260494  ...                       0.0\n",
              "\n",
              "[5 rows x 19 columns]"
            ]
          },
          "metadata": {
            "tags": []
          },
          "execution_count": 137
        }
      ]
    },
    {
      "cell_type": "code",
      "metadata": {
        "id": "f5nCUSarDORR",
        "colab_type": "code",
        "colab": {
          "base_uri": "https://localhost:8080/",
          "height": 153
        },
        "outputId": "f240150f-a016-4e75-d420-19eabf36c162"
      },
      "source": [
        "basic_model_selection(df_robust_normalize,Y_train,4,models)"
      ],
      "execution_count": null,
      "outputs": [
        {
          "output_type": "stream",
          "text": [
            "lr 0.560009026652901\n",
            "ridge 0.5600208310827125\n",
            "rfr 0.55045420860889\n",
            "etr 0.5212283119599912\n",
            "br 0.5160675766673948\n",
            "gbr 0.5925386817528885\n",
            "en 0.16450894691039902\n",
            "mlp 0.4962109616556029\n"
          ],
          "name": "stdout"
        }
      ]
    },
    {
      "cell_type": "code",
      "metadata": {
        "id": "-kk0dDUyDORX",
        "colab_type": "code",
        "colab": {
          "base_uri": "https://localhost:8080/",
          "height": 34
        },
        "outputId": "c52d8481-8b74-43e2-c884-3918889134af"
      },
      "source": [
        "cv_score = cross_val_score(xgb1, df_robust_normalize, Y_train, cv=4,n_jobs=5)\n",
        "print(cv_score.mean())"
      ],
      "execution_count": null,
      "outputs": [
        {
          "output_type": "stream",
          "text": [
            "0.5951011226638807\n"
          ],
          "name": "stdout"
        }
      ]
    },
    {
      "cell_type": "code",
      "metadata": {
        "id": "2DUklI1kDORc",
        "colab_type": "code",
        "colab": {
          "base_uri": "https://localhost:8080/",
          "height": 496
        },
        "outputId": "8ea6808c-3503-4d34-8f4e-4927d2ee4253"
      },
      "source": [
        "model_parameter_tuning(df_robust_normalize,Y_train,xgb1,parameters_xgb,4)"
      ],
      "execution_count": null,
      "outputs": [
        {
          "output_type": "stream",
          "text": [
            "Fitting 4 folds for each of 72 candidates, totalling 288 fits\n"
          ],
          "name": "stdout"
        },
        {
          "output_type": "stream",
          "text": [
            "[Parallel(n_jobs=5)]: Using backend LokyBackend with 5 concurrent workers.\n",
            "[Parallel(n_jobs=5)]: Done  40 tasks      | elapsed:   50.4s\n",
            "[Parallel(n_jobs=5)]: Done 190 tasks      | elapsed:  3.9min\n",
            "[Parallel(n_jobs=5)]: Done 288 out of 288 | elapsed:  5.9min finished\n"
          ],
          "name": "stderr"
        },
        {
          "output_type": "stream",
          "text": [
            "<bound method BaseSearchCV.score of GridSearchCV(cv=4, error_score=nan,\n",
            "             estimator=XGBRegressor(base_score=0.5, booster='gbtree',\n",
            "                                    colsample_bylevel=1, colsample_bynode=1,\n",
            "                                    colsample_bytree=1, gamma=0,\n",
            "                                    importance_type='gain', learning_rate=0.1,\n",
            "                                    max_delta_step=0, max_depth=3,\n",
            "                                    min_child_weight=1, missing=None,\n",
            "                                    n_estimators=100, n_jobs=1, nthread=None,\n",
            "                                    objective='reg:linear', random_state=0,\n",
            "                                    reg_alpha=0, reg_...\n",
            "                                    scale_pos_weight=1, seed=None, silent=None,\n",
            "                                    subsample=1, verbosity=1),\n",
            "             iid='deprecated', n_jobs=5,\n",
            "             param_grid={'colsample_bytree': [0.7],\n",
            "                         'learning_rate': [0.02, 0.03], 'max_depth': [3, 2, 4],\n",
            "                         'min_child_weight': [3, 4, 5],\n",
            "                         'n_estimators': [300, 320], 'nthread': [3, 4],\n",
            "                         'silent': [1], 'subsample': [0.5]},\n",
            "             pre_dispatch='2*n_jobs', refit=True, return_train_score=False,\n",
            "             scoring=None, verbose=True)>\n",
            "{'colsample_bytree': 0.7, 'learning_rate': 0.02, 'max_depth': 3, 'min_child_weight': 5, 'n_estimators': 300, 'nthread': 3, 'silent': 1, 'subsample': 0.5}\n",
            "The RMSE score is 1055.9074819940752\n"
          ],
          "name": "stdout"
        }
      ]
    },
    {
      "cell_type": "code",
      "metadata": {
        "id": "jrfNm2VZDORj",
        "colab_type": "code",
        "colab": {
          "base_uri": "https://localhost:8080/",
          "height": 581
        },
        "outputId": "365ff7cd-934a-41d7-c7b6-3299542a220f"
      },
      "source": [
        "model_parameter_tuning(df_robust_normalize,Y_train,gbr,parameters_gbr,4)"
      ],
      "execution_count": null,
      "outputs": [
        {
          "output_type": "stream",
          "text": [
            "Fitting 4 folds for each of 72 candidates, totalling 288 fits\n"
          ],
          "name": "stdout"
        },
        {
          "output_type": "stream",
          "text": [
            "[Parallel(n_jobs=5)]: Using backend LokyBackend with 5 concurrent workers.\n",
            "[Parallel(n_jobs=5)]: Done  40 tasks      | elapsed:  1.1min\n",
            "[Parallel(n_jobs=5)]: Done 190 tasks      | elapsed:  4.4min\n",
            "[Parallel(n_jobs=5)]: Done 288 out of 288 | elapsed:  7.1min finished\n"
          ],
          "name": "stderr"
        },
        {
          "output_type": "stream",
          "text": [
            "<bound method BaseSearchCV.score of GridSearchCV(cv=4, error_score=nan,\n",
            "             estimator=GradientBoostingRegressor(alpha=0.9, ccp_alpha=0.0,\n",
            "                                                 criterion='friedman_mse',\n",
            "                                                 init=None, learning_rate=0.1,\n",
            "                                                 loss='ls', max_depth=3,\n",
            "                                                 max_features=None,\n",
            "                                                 max_leaf_nodes=None,\n",
            "                                                 min_impurity_decrease=0.0,\n",
            "                                                 min_impurity_split=None,\n",
            "                                                 min_samples_leaf=1,\n",
            "                                                 min_samples_split=2,\n",
            "                                                 min_weight_fraction_leaf=0.0,\n",
            "                                                 n_estimators=100,\n",
            "                                                 n_iter_n...\n",
            "                                                 subsample=1.0, tol=0.0001,\n",
            "                                                 validation_fraction=0.1,\n",
            "                                                 verbose=0, warm_start=False),\n",
            "             iid='deprecated', n_jobs=5,\n",
            "             param_grid={'learning_rate': [0.3], 'loss': ['ls', 'lad'],\n",
            "                         'max_depth': [3, 4],\n",
            "                         'max_features': ['auto', 'log2', 'sqrt'],\n",
            "                         'min_samples_leaf': [3, 4, 2],\n",
            "                         'min_samples_split': [3, 4], 'n_estimators': [300]},\n",
            "             pre_dispatch='2*n_jobs', refit=True, return_train_score=False,\n",
            "             scoring=None, verbose=True)>\n",
            "{'learning_rate': 0.3, 'loss': 'lad', 'max_depth': 3, 'max_features': 'auto', 'min_samples_leaf': 2, 'min_samples_split': 3, 'n_estimators': 300}\n",
            "The RMSE score is 1043.6892385720002\n"
          ],
          "name": "stdout"
        }
      ]
    },
    {
      "cell_type": "markdown",
      "metadata": {
        "id": "h3s85ReyDORu",
        "colab_type": "text"
      },
      "source": [
        "# Best Model \n",
        "# Comparing all models using RMSE score \n"
      ]
    },
    {
      "cell_type": "markdown",
      "metadata": {
        "id": "MP-JCvmQDORx",
        "colab_type": "text"
      },
      "source": [
        "# Gradient Boosting Method is the best method when implemented using Robust Scaler and MinMaxScaler normalization\n",
        " PARAMETERS AND RMSE RESPECTIVELY\n",
        " {'learning_rate': 0.3, 'loss': 'lad', 'max_depth': 3, 'max_features': 'auto', 'min_samples_leaf': 2, 'min_samples_split': 2, 'n_estimators': 300}\n",
        "The RMSE score is 1049.14085875651"
      ]
    },
    {
      "cell_type": "code",
      "metadata": {
        "id": "hAL9-rSVDORy",
        "colab_type": "code",
        "colab": {}
      },
      "source": [
        "robust_test = robust.fit_transform(df_new_test)\n",
        "robust_normalize_test = normalize.fit_transform(robust_test)\n",
        "df_test_robust_normalize = pd.DataFrame(robust_normalize_test,columns=column_names)"
      ],
      "execution_count": 147,
      "outputs": []
    },
    {
      "cell_type": "code",
      "metadata": {
        "id": "6dZOydR-DOR9",
        "colab_type": "code",
        "colab": {}
      },
      "source": [
        "gbr = GradientBoostingRegressor(learning_rate= 0.3, loss= 'lad',max_depth= 3,min_samples_leaf=2,min_samples_split=3\n",
        "                                ,n_estimators= 300)\n",
        "# Defining my final model that I will use for prediction"
      ],
      "execution_count": 148,
      "outputs": []
    },
    {
      "cell_type": "code",
      "metadata": {
        "id": "nly6-fHVDOSE",
        "colab_type": "code",
        "colab": {
          "base_uri": "https://localhost:8080/",
          "height": 170
        },
        "outputId": "787f5859-ca02-4393-9526-acbbe67a0aeb"
      },
      "source": [
        "gbr.fit(df_robust_normalize,Y_train)"
      ],
      "execution_count": 149,
      "outputs": [
        {
          "output_type": "execute_result",
          "data": {
            "text/plain": [
              "GradientBoostingRegressor(alpha=0.9, ccp_alpha=0.0, criterion='friedman_mse',\n",
              "                          init=None, learning_rate=0.3, loss='lad', max_depth=3,\n",
              "                          max_features=None, max_leaf_nodes=None,\n",
              "                          min_impurity_decrease=0.0, min_impurity_split=None,\n",
              "                          min_samples_leaf=2, min_samples_split=3,\n",
              "                          min_weight_fraction_leaf=0.0, n_estimators=300,\n",
              "                          n_iter_no_change=None, presort='deprecated',\n",
              "                          random_state=None, subsample=1.0, tol=0.0001,\n",
              "                          validation_fraction=0.1, verbose=0, warm_start=False)"
            ]
          },
          "metadata": {
            "tags": []
          },
          "execution_count": 149
        }
      ]
    },
    {
      "cell_type": "code",
      "metadata": {
        "id": "TJldD3lcDOSL",
        "colab_type": "code",
        "colab": {}
      },
      "source": [
        "final_prediction=gbr.predict(df_test_robust_normalize) #Predicting the outlet sales"
      ],
      "execution_count": 150,
      "outputs": []
    },
    {
      "cell_type": "code",
      "metadata": {
        "id": "KTvn0aJ6DOSS",
        "colab_type": "code",
        "colab": {}
      },
      "source": [
        "#the prediction is in the form of numpy array \n",
        "# Converting into Dataframe \n",
        "df_final_prediction = pd.DataFrame(final_prediction,columns=['Item_Outlet_Sales'])"
      ],
      "execution_count": 151,
      "outputs": []
    },
    {
      "cell_type": "code",
      "metadata": {
        "id": "ducyAqSkDOSd",
        "colab_type": "code",
        "colab": {
          "base_uri": "https://localhost:8080/",
          "height": 204
        },
        "outputId": "b8f77d35-d42e-4ee0-d0b5-7ac228b3fac4"
      },
      "source": [
        "df_final_prediction.head()"
      ],
      "execution_count": 152,
      "outputs": [
        {
          "output_type": "execute_result",
          "data": {
            "text/html": [
              "<div>\n",
              "<style scoped>\n",
              "    .dataframe tbody tr th:only-of-type {\n",
              "        vertical-align: middle;\n",
              "    }\n",
              "\n",
              "    .dataframe tbody tr th {\n",
              "        vertical-align: top;\n",
              "    }\n",
              "\n",
              "    .dataframe thead th {\n",
              "        text-align: right;\n",
              "    }\n",
              "</style>\n",
              "<table border=\"1\" class=\"dataframe\">\n",
              "  <thead>\n",
              "    <tr style=\"text-align: right;\">\n",
              "      <th></th>\n",
              "      <th>Item_Outlet_Sales</th>\n",
              "    </tr>\n",
              "  </thead>\n",
              "  <tbody>\n",
              "    <tr>\n",
              "      <th>0</th>\n",
              "      <td>1685.263773</td>\n",
              "    </tr>\n",
              "    <tr>\n",
              "      <th>1</th>\n",
              "      <td>1280.670388</td>\n",
              "    </tr>\n",
              "    <tr>\n",
              "      <th>2</th>\n",
              "      <td>554.036778</td>\n",
              "    </tr>\n",
              "    <tr>\n",
              "      <th>3</th>\n",
              "      <td>2489.002710</td>\n",
              "    </tr>\n",
              "    <tr>\n",
              "      <th>4</th>\n",
              "      <td>5875.087556</td>\n",
              "    </tr>\n",
              "  </tbody>\n",
              "</table>\n",
              "</div>"
            ],
            "text/plain": [
              "   Item_Outlet_Sales\n",
              "0        1685.263773\n",
              "1        1280.670388\n",
              "2         554.036778\n",
              "3        2489.002710\n",
              "4        5875.087556"
            ]
          },
          "metadata": {
            "tags": []
          },
          "execution_count": 152
        }
      ]
    },
    {
      "cell_type": "markdown",
      "metadata": {
        "id": "Ltz07TrnDOSl",
        "colab_type": "text"
      },
      "source": [
        "# Saving the final model using Joblib"
      ]
    },
    {
      "cell_type": "code",
      "metadata": {
        "id": "bi_Add0NDOSm",
        "colab_type": "code",
        "colab": {
          "base_uri": "https://localhost:8080/",
          "height": 34
        },
        "outputId": "f23d3f1c-2ce3-482f-9429-4919e5441b10"
      },
      "source": [
        "import joblib\n",
        "filename = 'final_model.sav' # Name of the model \n",
        "joblib.dump(gbr, filename) # it is saved in your current working directory"
      ],
      "execution_count": 153,
      "outputs": [
        {
          "output_type": "execute_result",
          "data": {
            "text/plain": [
              "['final_model.sav']"
            ]
          },
          "metadata": {
            "tags": []
          },
          "execution_count": 153
        }
      ]
    },
    {
      "cell_type": "code",
      "metadata": {
        "id": "ROx7-3OrDOSv",
        "colab_type": "code",
        "colab": {}
      },
      "source": [
        "# This command loads the model once again\n",
        "load_model = joblib.load(filename)"
      ],
      "execution_count": 154,
      "outputs": []
    }
  ]
}